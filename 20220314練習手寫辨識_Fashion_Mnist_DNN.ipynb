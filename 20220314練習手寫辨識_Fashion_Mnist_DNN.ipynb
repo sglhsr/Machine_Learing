{
  "cells": [
    {
      "cell_type": "markdown",
      "metadata": {
        "id": "view-in-github",
        "colab_type": "text"
      },
      "source": [
        "<a href=\"https://colab.research.google.com/github/sglhsr/Machine_Learing/blob/main/20220314%E7%B7%B4%E7%BF%92%E6%89%8B%E5%AF%AB%E8%BE%A8%E8%AD%98_Fashion_Mnist_DNN.ipynb\" target=\"_parent\"><img src=\"https://colab.research.google.com/assets/colab-badge.svg\" alt=\"Open In Colab\"/></a>"
      ]
    },
    {
      "cell_type": "code",
      "execution_count": 2,
      "metadata": {
        "id": "pfCsHdy9jngS"
      },
      "outputs": [],
      "source": [
        "%matplotlib inline\n",
        "import numpy as np\n",
        "import matplotlib.pyplot as plt\n",
        "import pandas as pd\n",
        "\n",
        "from tensorflow.keras.utils import to_categorical\n",
        "from tensorflow.keras.models import Sequential\n",
        "from tensorflow.keras.layers import Dense\n",
        "from tensorflow.keras.optimizers import SGD"
      ]
    },
    {
      "cell_type": "code",
      "execution_count": 3,
      "metadata": {
        "id": "PRy4-a8_j6Oi",
        "colab": {
          "base_uri": "https://localhost:8080/"
        },
        "outputId": "8bf2920f-b3d9-4797-f22b-22478ae605c5"
      },
      "outputs": [
        {
          "output_type": "stream",
          "name": "stdout",
          "text": [
            "Downloading data from https://storage.googleapis.com/tensorflow/tf-keras-datasets/mnist.npz\n",
            "11493376/11490434 [==============================] - 0s 0us/step\n",
            "11501568/11490434 [==============================] - 0s 0us/step\n"
          ]
        }
      ],
      "source": [
        "from tensorflow.keras.datasets import mnist\n",
        "(x_train,y_train),(x_test,y_test)=mnist.load_data()"
      ]
    },
    {
      "cell_type": "code",
      "execution_count": 4,
      "metadata": {
        "id": "BsSXiS8hkGaz"
      },
      "outputs": [],
      "source": [
        "x_train=x_train.reshape(60000,784)/255\n",
        "x_test=x_test.reshape(10000,784)/255\n",
        "y_train=to_categorical(y_train,10)\n",
        "y_test=to_categorical(y_test,10)"
      ]
    },
    {
      "cell_type": "code",
      "execution_count": 5,
      "metadata": {
        "id": "UleEhRg0kIKh"
      },
      "outputs": [],
      "source": [
        "model=Sequential()\n",
        "model.add(Dense(20,input_dim=784,activation='relu'))\n",
        "model.add(Dense(20,activation='relu'))\n",
        "model.add(Dense(20,activation='relu'))\n",
        "model.add(Dense(10,activation='softmax'))"
      ]
    },
    {
      "cell_type": "code",
      "execution_count": 6,
      "metadata": {
        "id": "2gYaaJyak6z0"
      },
      "outputs": [],
      "source": [
        "model.compile(loss='mse',optimizer=SGD(learning_rate=0.087),metrics=['Accuracy'])"
      ]
    },
    {
      "cell_type": "code",
      "execution_count": 7,
      "metadata": {
        "colab": {
          "base_uri": "https://localhost:8080/"
        },
        "id": "uS2XV_QPlUnD",
        "outputId": "02f788ab-d432-41b2-bb7a-66b7e95d7381"
      },
      "outputs": [
        {
          "output_type": "stream",
          "name": "stdout",
          "text": [
            "Epoch 1/15\n",
            "600/600 [==============================] - 2s 2ms/step - loss: 0.0894 - Accuracy: 0.1477\n",
            "Epoch 2/15\n",
            "600/600 [==============================] - 1s 2ms/step - loss: 0.0852 - Accuracy: 0.2231\n",
            "Epoch 3/15\n",
            "600/600 [==============================] - 1s 2ms/step - loss: 0.0753 - Accuracy: 0.3675\n",
            "Epoch 4/15\n",
            "600/600 [==============================] - 1s 2ms/step - loss: 0.0606 - Accuracy: 0.5304\n",
            "Epoch 5/15\n",
            "600/600 [==============================] - 1s 2ms/step - loss: 0.0466 - Accuracy: 0.6780\n",
            "Epoch 6/15\n",
            "600/600 [==============================] - 1s 2ms/step - loss: 0.0372 - Accuracy: 0.7512\n",
            "Epoch 7/15\n",
            "600/600 [==============================] - 1s 2ms/step - loss: 0.0328 - Accuracy: 0.7778\n",
            "Epoch 8/15\n",
            "600/600 [==============================] - 1s 2ms/step - loss: 0.0300 - Accuracy: 0.7946\n",
            "Epoch 9/15\n",
            "600/600 [==============================] - 1s 2ms/step - loss: 0.0236 - Accuracy: 0.8467\n",
            "Epoch 10/15\n",
            "600/600 [==============================] - 1s 2ms/step - loss: 0.0203 - Accuracy: 0.8682\n",
            "Epoch 11/15\n",
            "600/600 [==============================] - 1s 2ms/step - loss: 0.0185 - Accuracy: 0.8804\n",
            "Epoch 12/15\n",
            "600/600 [==============================] - 1s 2ms/step - loss: 0.0173 - Accuracy: 0.8885\n",
            "Epoch 13/15\n",
            "600/600 [==============================] - 1s 2ms/step - loss: 0.0163 - Accuracy: 0.8941\n",
            "Epoch 14/15\n",
            "600/600 [==============================] - 1s 2ms/step - loss: 0.0156 - Accuracy: 0.8985\n",
            "Epoch 15/15\n",
            "600/600 [==============================] - 1s 2ms/step - loss: 0.0150 - Accuracy: 0.9020\n"
          ]
        },
        {
          "output_type": "execute_result",
          "data": {
            "text/plain": [
              "<keras.callbacks.History at 0x7fef4f0c2c90>"
            ]
          },
          "metadata": {},
          "execution_count": 7
        }
      ],
      "source": [
        "model.fit(x_train,y_train,batch_size=100,epochs=15)"
      ]
    },
    {
      "cell_type": "code",
      "execution_count": 43,
      "metadata": {
        "colab": {
          "base_uri": "https://localhost:8080/",
          "height": 338
        },
        "id": "D1PSAYjalf1y",
        "outputId": "6c8ad80d-f471-4173-cfa7-a59eca9830c4"
      },
      "outputs": [
        {
          "output_type": "stream",
          "name": "stdout",
          "text": [
            "[6.3645403e-04 3.7610103e-04 9.8524466e-02 6.1172727e-02 6.7517334e-01\n",
            " 4.9088225e-03 1.8804939e-02 5.8105192e-03 3.4881838e-02 9.9710755e-02]\n",
            "0.6751733422279358\n"
          ]
        },
        {
          "output_type": "execute_result",
          "data": {
            "text/plain": [
              "<matplotlib.image.AxesImage at 0x7fef4ca227d0>"
            ]
          },
          "metadata": {},
          "execution_count": 43
        },
        {
          "output_type": "display_data",
          "data": {
            "text/plain": [
              "<Figure size 432x288 with 1 Axes>"
            ],
            "image/png": "[encoded data removed]"
          },
          "metadata": {
            "needs_background": "light"
          }
        }
      ],
      "source": [
        "y_predict=np.argmax(model.predict(x_train),axis=-1)\n",
        "b=model.predict(x_train[2].reshape(1,784))\n",
        "print(b[0])\n",
        "print(float(model.predict(x_train[2].reshape(1,784)).flatten()[4]))\n",
        "plt.imshow(x_train[2].reshape(28,28),cmap='Greys')"
      ]
    },
    {
      "cell_type": "code",
      "execution_count": null,
      "metadata": {
        "colab": {
          "background_save": true
        },
        "id": "1kp6fca7l6EC",
        "outputId": "e94a8847-2637-4b5f-872d-d69a669c15c3"
      },
      "outputs": [
        {
          "ename": "SyntaxError",
          "evalue": "ignored",
          "output_type": "error",
          "traceback": [
            "\u001b[0;36m  File \u001b[0;32m\"<ipython-input-76-9be47f518c64>\"\u001b[0;36m, line \u001b[0;32m4\u001b[0m\n\u001b[0;31m    plt.imshow(x_test[data].reshape(28,28),cmap='Greys'))\u001b[0m\n\u001b[0m                                                        ^\u001b[0m\n\u001b[0;31mSyntaxError\u001b[0m\u001b[0;31m:\u001b[0m invalid syntax\n"
          ]
        }
      ],
      "source": [
        "from ipywidgets import interact_manual\n",
        "def test(data):\n",
        "  print(\"test:\",y_test[data])\n",
        "  plt.imshow(x_test[data].reshape(28,28),cmap='Greys'))\n",
        "  print(\"predict:\",y_predict[data])\n",
        "interact_manual(test,data=(0,9999))"
      ]
    },
    {
      "cell_type": "code",
      "execution_count": null,
      "metadata": {
        "colab": {
          "background_save": true
        },
        "id": "7lLqJHecmtbE"
      },
      "outputs": [],
      "source": [
        ""
      ]
    }
  ],
  "metadata": {
    "colab": {
      "name": "20220314練習手寫辨識_Fashion_Mnist_DNN.ipynb",
      "provenance": [],
      "authorship_tag": "ABX9TyN7PR+tVTieawX5H5YCwtv6",
      "include_colab_link": true
    },
    "kernelspec": {
      "display_name": "Python 3",
      "name": "python3"
    },
    "language_info": {
      "name": "python"
    }
  },
  "nbformat": 4,
  "nbformat_minor": 0
}