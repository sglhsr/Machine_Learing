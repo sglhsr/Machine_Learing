{
  "cells": [
    {
      "cell_type": "markdown",
      "metadata": {
        "id": "view-in-github",
        "colab_type": "text"
      },
      "source": [
        "<a href=\"https://colab.research.google.com/github/sglhsr/Machine_Learing/blob/main/Pandas.ipynb\" target=\"_parent\"><img src=\"https://colab.research.google.com/assets/colab-badge.svg\" alt=\"Open In Colab\"/></a>"
      ]
    },
    {
      "cell_type": "code",
      "execution_count": null,
      "id": "88b804a9",
      "metadata": {
        "id": "88b804a9",
        "outputId": "5c274cd3-127b-4d5a-f06c-c9a277276454"
      },
      "outputs": [
        {
          "name": "stdout",
          "output_type": "stream",
          "text": [
            "Populating the interactive namespace from numpy and matplotlib\n",
            "0    0.691931\n",
            "1    0.283285\n",
            "2    0.505838\n",
            "3    0.521496\n",
            "4    0.298679\n",
            "5    0.523681\n",
            "6    0.758140\n",
            "7    0.087341\n",
            "8    0.439058\n",
            "9    0.861667\n",
            "dtype: float64\n"
          ]
        }
      ],
      "source": [
        "%pylab inline\n",
        "import pandas as pd\n",
        "a=pd.Series(rand(10))\n",
        "print(a)"
      ]
    },
    {
      "cell_type": "code",
      "execution_count": null,
      "id": "367f4c90",
      "metadata": {
        "id": "367f4c90",
        "outputId": "8424ebb2-2cc8-4434-9068-9a8fb79f79e6"
      },
      "outputs": [
        {
          "data": {
            "text/plain": [
              "2    0.505838\n",
              "3    0.521496\n",
              "4    0.298679\n",
              "dtype: float64"
            ]
          },
          "execution_count": 6,
          "metadata": {},
          "output_type": "execute_result"
        }
      ],
      "source": [
        "a[2:5]"
      ]
    },
    {
      "cell_type": "code",
      "execution_count": null,
      "id": "a1af87c3",
      "metadata": {
        "id": "a1af87c3",
        "outputId": "3012cb33-cdba-4371-8cd4-8d57f8f27978"
      },
      "outputs": [
        {
          "data": {
            "text/plain": [
              "0    0.691931\n",
              "1    1.000000\n",
              "2    0.505838\n",
              "3    0.521496\n",
              "4    1.000000\n",
              "5    0.523681\n",
              "6    0.758140\n",
              "7    1.000000\n",
              "8    1.000000\n",
              "9    0.861667\n",
              "dtype: float64"
            ]
          },
          "execution_count": 11,
          "metadata": {},
          "output_type": "execute_result"
        }
      ],
      "source": [
        "a<0.5\n",
        "a[a<0.5]\n",
        "a[a<0.5]=1 #<0.5的變成1\n",
        "a"
      ]
    },
    {
      "cell_type": "code",
      "execution_count": null,
      "id": "25ecf8a4",
      "metadata": {
        "id": "25ecf8a4",
        "outputId": "6d25d5a2-c892-4708-e0ad-eb12fb6b32b8"
      },
      "outputs": [
        {
          "data": {
            "text/plain": [
              "0    10.691931\n",
              "1    11.000000\n",
              "2    10.505838\n",
              "3    10.521496\n",
              "4    11.000000\n",
              "5    10.523681\n",
              "6    10.758140\n",
              "7    11.000000\n",
              "8    11.000000\n",
              "9    10.861667\n",
              "dtype: float64"
            ]
          },
          "execution_count": 13,
          "metadata": {},
          "output_type": "execute_result"
        }
      ],
      "source": [
        "a[a>=0.5]+=5\n",
        "a"
      ]
    },
    {
      "cell_type": "code",
      "execution_count": null,
      "id": "e7eb135c",
      "metadata": {
        "id": "e7eb135c",
        "outputId": "d61da336-c211-4a54-92fb-e373a92e54a3"
      },
      "outputs": [
        {
          "name": "stdout",
          "output_type": "stream",
          "text": [
            "Jan    10.691931\n",
            "Feb    11.000000\n",
            "Mar    10.505838\n",
            "Apr    10.521496\n",
            "May    11.000000\n",
            "Jun    10.523681\n",
            "Jul    10.758140\n",
            "Aug    11.000000\n",
            "Sep    11.000000\n",
            "Oct    10.861667\n",
            "dtype: float64\n",
            "10.691931099264801\n",
            "May    11.000000\n",
            "Jun    10.523681\n",
            "Jul    10.758140\n",
            "Aug    11.000000\n",
            "Sep    11.000000\n",
            "dtype: float64\n",
            "10.86166733911677\n"
          ]
        }
      ],
      "source": [
        "month=[\"Jan\",\"Feb\",\"Mar\",\"Apr\",\"May\",'Jun',\"Jul\",\"Aug\",\"Sep\",\"Oct\"]\n",
        "month\n",
        "a.index=month #把a array的index用month取代,類似hashtable\n",
        "print(a)\n",
        "print(a[\"Jan\"])\n",
        "print(a[\"May\":\"Sep\"])\n"
      ]
    },
    {
      "cell_type": "code",
      "execution_count": null,
      "id": "9b9e1b16",
      "metadata": {
        "id": "9b9e1b16",
        "outputId": "1f3f5d21-30a3-4524-83d9-0de60193c8a5"
      },
      "outputs": [
        {
          "name": "stdout",
          "output_type": "stream",
          "text": [
            "85\n"
          ]
        }
      ],
      "source": [
        "newSer=pd.Series(array([99,85,66,77]),\n",
        "                index=[\"Marry\",\"John\",\"Jay\",\"Tom\"])\n",
        "print(newSer[\"John\"])"
      ]
    },
    {
      "cell_type": "code",
      "execution_count": null,
      "id": "27c9b11f",
      "metadata": {
        "id": "27c9b11f",
        "outputId": "76c01226-cf8a-483c-fa6a-179c254d8fbf"
      },
      "outputs": [
        {
          "name": "stdout",
          "output_type": "stream",
          "text": [
            "Marry    99\n",
            "John     85\n",
            "Jay      66\n",
            "Tom      90\n",
            "dtype: int64\n"
          ]
        }
      ],
      "source": [
        "newSer[\"Tom\"]=90\n",
        "print(newSer)"
      ]
    },
    {
      "cell_type": "code",
      "execution_count": null,
      "id": "3fd874d8",
      "metadata": {
        "id": "3fd874d8",
        "outputId": "21205a2c-8215-4fe0-f592-2ce7c861fff4"
      },
      "outputs": [
        {
          "data": {
            "text/plain": [
              "DatetimeIndex(['2015-01-01', '2015-01-02', '2015-01-03', '2015-01-04',\n",
              "               '2015-01-05', '2015-01-06', '2015-01-07', '2015-01-08',\n",
              "               '2015-01-09', '2015-01-10', '2015-01-11', '2015-01-12',\n",
              "               '2015-01-13', '2015-01-14', '2015-01-15', '2015-01-16',\n",
              "               '2015-01-17', '2015-01-18', '2015-01-19', '2015-01-20',\n",
              "               '2015-01-21', '2015-01-22', '2015-01-23', '2015-01-24',\n",
              "               '2015-01-25', '2015-01-26', '2015-01-27', '2015-01-28',\n",
              "               '2015-01-29', '2015-01-30'],\n",
              "              dtype='datetime64[ns]', freq='D')"
            ]
          },
          "execution_count": 47,
          "metadata": {},
          "output_type": "execute_result"
        }
      ],
      "source": [
        "#該日期後取30天\n",
        "dates=pd.date_range(\"20150101\",periods=30)\n",
        "dates"
      ]
    },
    {
      "cell_type": "code",
      "execution_count": null,
      "id": "7aa9e837",
      "metadata": {
        "id": "7aa9e837",
        "outputId": "7b12861d-df42-4606-a26c-1dbbb68ea8a8"
      },
      "outputs": [
        {
          "name": "stdout",
          "output_type": "stream",
          "text": [
            "0     71.426991\n",
            "1     63.847634\n",
            "2     72.496901\n",
            "3     72.715447\n",
            "4     76.608108\n",
            "5     68.660475\n",
            "6     76.148347\n",
            "7     62.861500\n",
            "8     77.267481\n",
            "9     57.970972\n",
            "10    86.604895\n",
            "11    53.966936\n",
            "12    79.761410\n",
            "13    65.392336\n",
            "14    59.326309\n",
            "15    62.298815\n",
            "16    83.212478\n",
            "17    47.294641\n",
            "18    61.283962\n",
            "19    59.804900\n",
            "20    72.313845\n",
            "21    68.389635\n",
            "22    81.641092\n",
            "23    66.027810\n",
            "24    67.287857\n",
            "25    83.204137\n",
            "26    77.866416\n",
            "27    61.579038\n",
            "28    68.920229\n",
            "29    67.203909\n",
            "dtype: float64\n"
          ]
        }
      ],
      "source": [
        "#平均70,便異數10,30筆資料\n",
        "ss=pd.Series(normal(70,10,30))\n",
        "print(ss)"
      ]
    },
    {
      "cell_type": "code",
      "execution_count": null,
      "id": "408964cb",
      "metadata": {
        "id": "408964cb"
      },
      "outputs": [],
      "source": [
        "\n"
      ]
    },
    {
      "cell_type": "code",
      "execution_count": null,
      "id": "95490f42",
      "metadata": {
        "id": "95490f42",
        "outputId": "4e673aeb-5ddb-40a5-d1a8-158a5e5a5147"
      },
      "outputs": [
        {
          "data": {
            "text/plain": [
              "array([[ 0.83916818, -1.0104984 , -0.86103005, -0.62356576,  0.97696106],\n",
              "       [ 1.87086722, -0.77728569, -1.04440038, -2.43029922,  1.26363582],\n",
              "       [-0.01744163,  0.41101211, -1.10811213,  1.3507852 , -1.32921174],\n",
              "       [ 0.91563699, -0.45828196, -0.15955065, -0.64118133,  1.11708614],\n",
              "       [ 0.82675178, -1.35065835, -1.43860594,  0.40889201,  0.83231078],\n",
              "       [ 0.25350191, -0.62766471, -1.98911553,  0.39443134,  0.17546783],\n",
              "       [ 0.52760884, -0.61531874, -0.36703976, -0.20609913,  1.34110824],\n",
              "       [-1.34402893,  1.93418339, -0.58628324,  0.74978187,  1.42004943],\n",
              "       [ 2.55159262, -1.32928846, -0.40946942, -0.54821797, -0.61875783],\n",
              "       [ 0.43947706, -0.86302069, -0.39039286,  1.07424355, -1.16436707]])"
            ]
          },
          "execution_count": 50,
          "metadata": {},
          "output_type": "execute_result"
        }
      ],
      "source": [
        "data=randn(10,5) #10列5行\n",
        "data"
      ]
    },
    {
      "cell_type": "code",
      "execution_count": null,
      "id": "296a878a",
      "metadata": {
        "id": "296a878a",
        "outputId": "95b33ceb-0ab7-4a3b-aa95-7837b9e036da"
      },
      "outputs": [
        {
          "name": "stdout",
          "output_type": "stream",
          "text": [
            "          0         1         2         3         4\n",
            "0  0.839168 -1.010498 -0.861030 -0.623566  0.976961\n",
            "1  1.870867 -0.777286 -1.044400 -2.430299  1.263636\n",
            "2 -0.017442  0.411012 -1.108112  1.350785 -1.329212\n",
            "3  0.915637 -0.458282 -0.159551 -0.641181  1.117086\n",
            "4  0.826752 -1.350658 -1.438606  0.408892  0.832311\n",
            "5  0.253502 -0.627665 -1.989116  0.394431  0.175468\n",
            "6  0.527609 -0.615319 -0.367040 -0.206099  1.341108\n",
            "7 -1.344029  1.934183 -0.586283  0.749782  1.420049\n",
            "8  2.551593 -1.329288 -0.409469 -0.548218 -0.618758\n",
            "9  0.439477 -0.863021 -0.390393  1.074244 -1.164367\n",
            "['A', 'B', 'C', 'D', 'E']\n",
            "          A         B         C         D         E\n",
            "0  0.839168 -1.010498 -0.861030 -0.623566  0.976961\n",
            "1  1.870867 -0.777286 -1.044400 -2.430299  1.263636\n",
            "2 -0.017442  0.411012 -1.108112  1.350785 -1.329212\n",
            "3  0.915637 -0.458282 -0.159551 -0.641181  1.117086\n",
            "4  0.826752 -1.350658 -1.438606  0.408892  0.832311\n",
            "5  0.253502 -0.627665 -1.989116  0.394431  0.175468\n",
            "6  0.527609 -0.615319 -0.367040 -0.206099  1.341108\n",
            "7 -1.344029  1.934183 -0.586283  0.749782  1.420049\n",
            "8  2.551593 -1.329288 -0.409469 -0.548218 -0.618758\n",
            "9  0.439477 -0.863021 -0.390393  1.074244 -1.164367\n"
          ]
        }
      ],
      "source": [
        "df=pd.DataFrame(data)\n",
        "print(df)\n",
        "print(list(\"ABCDE\"))\n",
        "df=pd.DataFrame(data,columns=list(\"ABCDE\")) #用list指定欄位\n",
        "print(df)"
      ]
    },
    {
      "cell_type": "code",
      "execution_count": null,
      "id": "f2c7a5de",
      "metadata": {
        "id": "f2c7a5de",
        "outputId": "e224ec0c-b71f-436a-8700-7bcf22bf8e53"
      },
      "outputs": [
        {
          "name": "stdout",
          "output_type": "stream",
          "text": [
            "          A         B        C         D         E\n",
            "0  0.839168 -1.010498 -0.86103 -0.623566  0.976961\n",
            "1  1.870867 -0.777286 -1.04440 -2.430299  1.263636\n",
            "          A         B         C         D         E\n",
            "1  1.870867 -0.777286 -1.044400 -2.430299  1.263636\n",
            "2 -0.017442  0.411012 -1.108112  1.350785 -1.329212\n",
            "3  0.915637 -0.458282 -0.159551 -0.641181  1.117086\n",
            "0    0.839168\n",
            "1    1.870867\n",
            "2   -0.017442\n",
            "3    0.915637\n",
            "4    0.826752\n",
            "5    0.253502\n",
            "6    0.527609\n",
            "7   -1.344029\n",
            "8    2.551593\n",
            "9    0.439477\n",
            "Name: A, dtype: float64\n",
            "          B         D\n",
            "0 -1.010498 -0.623566\n",
            "1 -0.777286 -2.430299\n",
            "2  0.411012  1.350785\n",
            "3 -0.458282 -0.641181\n",
            "4 -1.350658  0.408892\n",
            "5 -0.627665  0.394431\n",
            "6 -0.615319 -0.206099\n",
            "7  1.934183  0.749782\n",
            "8 -1.329288 -0.548218\n",
            "9 -0.863021  1.074244\n"
          ]
        }
      ],
      "source": [
        "print(df.head(2)) #取前幾筆\n",
        "print(df[1:4])\n",
        "print(df[\"A\"])\n",
        "print(df[['B' ,'D']])  #列出特定數行,需一個list (兩個[] )\n"
      ]
    },
    {
      "cell_type": "code",
      "execution_count": null,
      "id": "6c33947b",
      "metadata": {
        "id": "6c33947b",
        "outputId": "477325f1-2b9e-45ab-e595-170f051cb0ff"
      },
      "outputs": [
        {
          "data": {
            "text/plain": [
              "[<matplotlib.lines.Line2D at 0x20ae47b4c70>,\n",
              " <matplotlib.lines.Line2D at 0x20ae47b4be0>,\n",
              " <matplotlib.lines.Line2D at 0x20ae47b4e20>,\n",
              " <matplotlib.lines.Line2D at 0x20ae47b4eb0>,\n",
              " <matplotlib.lines.Line2D at 0x20ae47a0130>]"
            ]
          },
          "execution_count": 104,
          "metadata": {},
          "output_type": "execute_result"
        },
        {
          "data": {
            "image/png": "[encoded data removed]",
            "text/plain": [
              "<Figure size 432x288 with 1 Axes>"
            ]
          },
          "metadata": {
            "needs_background": "light"
          },
          "output_type": "display_data"
        }
      ],
      "source": [
        "plot(df)"
      ]
    },
    {
      "cell_type": "code",
      "execution_count": null,
      "id": "5bb38ded",
      "metadata": {
        "scrolled": true,
        "id": "5bb38ded",
        "outputId": "fb04b1ee-09ab-4ea3-85dc-802fd8ee3b4c"
      },
      "outputs": [
        {
          "data": {
            "text/plain": [
              "<AxesSubplot:>"
            ]
          },
          "execution_count": 106,
          "metadata": {},
          "output_type": "execute_result"
        },
        {
          "data": {
            "image/png": "[encoded data removed]",
            "text/plain": [
              "<Figure size 432x288 with 1 Axes>"
            ]
          },
          "metadata": {
            "needs_background": "light"
          },
          "output_type": "display_data"
        }
      ],
      "source": [
        "df.plot()"
      ]
    },
    {
      "cell_type": "code",
      "execution_count": null,
      "id": "df64068c",
      "metadata": {
        "id": "df64068c",
        "outputId": "cd8bee06-4c0a-4347-a3db-0c961e29175a"
      },
      "outputs": [
        {
          "data": {
            "text/plain": [
              "array([50.8465505 , 59.30704239, 62.51688863, 64.79276047, 48.87702927,\n",
              "       59.34921277, 55.11482778, 54.82427927, 56.91191512, 61.126579  ])"
            ]
          },
          "execution_count": 110,
          "metadata": {},
          "output_type": "execute_result"
        }
      ],
      "source": [
        "normal(60,5,10)\n"
      ]
    },
    {
      "cell_type": "code",
      "execution_count": null,
      "id": "0302cd39",
      "metadata": {
        "id": "0302cd39",
        "outputId": "8e0b42e9-55fe-4827-a32a-ef3bd9bbe256"
      },
      "outputs": [
        {
          "data": {
            "text/plain": [
              "array([[79.36367094, 65.82612118, 70.67352521],\n",
              "       [89.82441092, 67.27598247, 89.39663224],\n",
              "       [81.87799246, 96.51153196, 81.1306134 ],\n",
              "       [76.11846545, 81.43649631, 86.90741955],\n",
              "       [70.92971671, 80.76827837, 99.12080126]])"
            ]
          },
          "execution_count": 109,
          "metadata": {},
          "output_type": "execute_result"
        }
      ],
      "source": [
        "normal(80,10,(5,3))  #平均80,標準差10, 5*3的陣列"
      ]
    },
    {
      "cell_type": "code",
      "execution_count": null,
      "id": "a8e0deac",
      "metadata": {
        "id": "a8e0deac",
        "outputId": "8767a8ac-9307-4246-99bf-c853ce5d8f8d"
      },
      "outputs": [
        {
          "data": {
            "text/plain": [
              "DatetimeIndex(['2015-04-01', '2015-04-02', '2015-04-03', '2015-04-04',\n",
              "               '2015-04-05', '2015-04-06', '2015-04-07', '2015-04-08',\n",
              "               '2015-04-09', '2015-04-10'],\n",
              "              dtype='datetime64[ns]', freq='D')"
            ]
          },
          "execution_count": 112,
          "metadata": {},
          "output_type": "execute_result"
        }
      ],
      "source": [
        "pd.date_range(\"2015-04-01\",periods=10)"
      ]
    },
    {
      "cell_type": "code",
      "execution_count": null,
      "id": "20387b90",
      "metadata": {
        "id": "20387b90",
        "outputId": "d86dcdb6-104f-4207-d161-99c934e7419f"
      },
      "outputs": [
        {
          "data": {
            "text/plain": [
              "DatetimeIndex(['2015-01-31', '2015-02-28', '2015-03-31', '2015-04-30',\n",
              "               '2015-05-31', '2015-06-30', '2015-07-31', '2015-08-31',\n",
              "               '2015-09-30', '2015-10-31', '2015-11-30', '2015-12-31'],\n",
              "              dtype='datetime64[ns]', freq='M')"
            ]
          },
          "execution_count": 115,
          "metadata": {},
          "output_type": "execute_result"
        }
      ],
      "source": [
        "date=pd.date_range(\"2015-01-01\",\"2015-12-31\",freq=\"M\")  #freq每月取一筆\n",
        "print(date)"
      ]
    },
    {
      "cell_type": "code",
      "execution_count": null,
      "id": "5c4c1326",
      "metadata": {
        "id": "5c4c1326",
        "outputId": "8f4e437e-752e-4bfa-db55-e89d7cdcdc2e"
      },
      "outputs": [
        {
          "name": "stdout",
          "output_type": "stream",
          "text": [
            "                     A           B           C           D           E\n",
            "2015-01-31   87.372681   62.257995   72.261665   87.271604   86.314282\n",
            "2015-02-28  107.822232  119.142327   95.879817  109.389956   91.895366\n",
            "2015-03-31  141.779203  116.226160   85.802613   95.893714   92.249882\n",
            "2015-04-30   78.970729   94.889664  110.089299  108.611207   84.850612\n",
            "2015-05-31  145.528574  111.036914   72.125231   92.972845   79.567384\n",
            "2015-06-30  132.096064   82.298900   90.865999  155.342288  125.988425\n",
            "2015-07-31  155.206484   83.078449   62.949694  107.530033   89.353946\n",
            "2015-08-31   95.743780   96.736180  109.300246   82.607443   66.097052\n",
            "2015-09-30  115.358666  134.391950   98.158747   95.613917  155.666452\n",
            "2015-10-31   69.231873   77.903376   77.710500  101.143503   78.333124\n",
            "2015-11-30   73.297690  131.437745  111.800313  100.562837  133.105397\n",
            "2015-12-31   70.526896  102.088789   98.310077   80.772659   85.850872\n"
          ]
        },
        {
          "data": {
            "text/plain": [
              "<AxesSubplot:>"
            ]
          },
          "execution_count": 122,
          "metadata": {},
          "output_type": "execute_result"
        },
        {
          "data": {
            "image/png": "[encoded data removed]",
            "text/plain": [
              "<Figure size 432x288 with 1 Axes>"
            ]
          },
          "metadata": {
            "needs_background": "light"
          },
          "output_type": "display_data"
        }
      ],
      "source": [
        "df=pd.DataFrame(normal(100,20,(12,5)),index=date,\n",
        "               columns=list(\"ABCDE\"))\n",
        "print(df)\n",
        "df.plot()\n"
      ]
    },
    {
      "cell_type": "code",
      "execution_count": null,
      "id": "9f99c8bf",
      "metadata": {
        "id": "9f99c8bf",
        "outputId": "5c87ebfc-ebc4-4e90-e06e-a011d95b5e59"
      },
      "outputs": [
        {
          "data": {
            "text/html": [
              "<div>\n",
              "<style scoped>\n",
              "    .dataframe tbody tr th:only-of-type {\n",
              "        vertical-align: middle;\n",
              "    }\n",
              "\n",
              "    .dataframe tbody tr th {\n",
              "        vertical-align: top;\n",
              "    }\n",
              "\n",
              "    .dataframe thead th {\n",
              "        text-align: right;\n",
              "    }\n",
              "</style>\n",
              "<table border=\"1\" class=\"dataframe\">\n",
              "  <thead>\n",
              "    <tr style=\"text-align: right;\">\n",
              "      <th></th>\n",
              "      <th>High</th>\n",
              "      <th>Low</th>\n",
              "      <th>Open</th>\n",
              "      <th>Close</th>\n",
              "      <th>Volume</th>\n",
              "      <th>Adj Close</th>\n",
              "    </tr>\n",
              "    <tr>\n",
              "      <th>Date</th>\n",
              "      <th></th>\n",
              "      <th></th>\n",
              "      <th></th>\n",
              "      <th></th>\n",
              "      <th></th>\n",
              "      <th></th>\n",
              "    </tr>\n",
              "  </thead>\n",
              "  <tbody>\n",
              "    <tr>\n",
              "      <th>2022-02-09</th>\n",
              "      <td>176.649994</td>\n",
              "      <td>174.899994</td>\n",
              "      <td>176.050003</td>\n",
              "      <td>176.279999</td>\n",
              "      <td>71285000</td>\n",
              "      <td>176.279999</td>\n",
              "    </tr>\n",
              "    <tr>\n",
              "      <th>2022-02-10</th>\n",
              "      <td>175.479996</td>\n",
              "      <td>171.550003</td>\n",
              "      <td>174.139999</td>\n",
              "      <td>172.119995</td>\n",
              "      <td>90865900</td>\n",
              "      <td>172.119995</td>\n",
              "    </tr>\n",
              "    <tr>\n",
              "      <th>2022-02-11</th>\n",
              "      <td>173.080002</td>\n",
              "      <td>168.039993</td>\n",
              "      <td>172.330002</td>\n",
              "      <td>168.639999</td>\n",
              "      <td>98566000</td>\n",
              "      <td>168.639999</td>\n",
              "    </tr>\n",
              "    <tr>\n",
              "      <th>2022-02-14</th>\n",
              "      <td>169.580002</td>\n",
              "      <td>166.559998</td>\n",
              "      <td>167.369995</td>\n",
              "      <td>168.880005</td>\n",
              "      <td>86185500</td>\n",
              "      <td>168.880005</td>\n",
              "    </tr>\n",
              "    <tr>\n",
              "      <th>2022-02-15</th>\n",
              "      <td>172.949997</td>\n",
              "      <td>170.250000</td>\n",
              "      <td>170.970001</td>\n",
              "      <td>172.789993</td>\n",
              "      <td>62527400</td>\n",
              "      <td>172.789993</td>\n",
              "    </tr>\n",
              "  </tbody>\n",
              "</table>\n",
              "</div>"
            ],
            "text/plain": [
              "                  High         Low        Open       Close    Volume   Adj Close\n",
              "Date                                                                            \n",
              "2022-02-09  176.649994  174.899994  176.050003  176.279999  71285000  176.279999\n",
              "2022-02-10  175.479996  171.550003  174.139999  172.119995  90865900  172.119995\n",
              "2022-02-11  173.080002  168.039993  172.330002  168.639999  98566000  168.639999\n",
              "2022-02-14  169.580002  166.559998  167.369995  168.880005  86185500  168.880005\n",
              "2022-02-15  172.949997  170.250000  170.970001  172.789993  62527400  172.789993"
            ]
          },
          "execution_count": 6,
          "metadata": {},
          "output_type": "execute_result"
        }
      ],
      "source": [
        "import pandas_datareader.data as web\n",
        "import datetime\n",
        "\n",
        "start=datetime.datetime(2022,2,10)\n",
        "end=datetime.datetime(2022,3,10)\n",
        "df=web.DataReader(\"AAPL\",\"yahoo\",start,end)\n",
        "df.head()"
      ]
    },
    {
      "cell_type": "code",
      "execution_count": null,
      "id": "b47aa823",
      "metadata": {
        "id": "b47aa823",
        "outputId": "a6947dc4-2d62-446a-c245-c24f0fc605b1"
      },
      "outputs": [
        {
          "data": {
            "text/html": [
              "<div>\n",
              "<style scoped>\n",
              "    .dataframe tbody tr th:only-of-type {\n",
              "        vertical-align: middle;\n",
              "    }\n",
              "\n",
              "    .dataframe tbody tr th {\n",
              "        vertical-align: top;\n",
              "    }\n",
              "\n",
              "    .dataframe thead th {\n",
              "        text-align: right;\n",
              "    }\n",
              "</style>\n",
              "<table border=\"1\" class=\"dataframe\">\n",
              "  <thead>\n",
              "    <tr style=\"text-align: right;\">\n",
              "      <th></th>\n",
              "      <th>Open</th>\n",
              "      <th>Close</th>\n",
              "    </tr>\n",
              "    <tr>\n",
              "      <th>Date</th>\n",
              "      <th></th>\n",
              "      <th></th>\n",
              "    </tr>\n",
              "  </thead>\n",
              "  <tbody>\n",
              "    <tr>\n",
              "      <th>2022-02-09</th>\n",
              "      <td>176.050003</td>\n",
              "      <td>176.279999</td>\n",
              "    </tr>\n",
              "    <tr>\n",
              "      <th>2022-02-10</th>\n",
              "      <td>174.139999</td>\n",
              "      <td>172.119995</td>\n",
              "    </tr>\n",
              "    <tr>\n",
              "      <th>2022-02-11</th>\n",
              "      <td>172.330002</td>\n",
              "      <td>168.639999</td>\n",
              "    </tr>\n",
              "    <tr>\n",
              "      <th>2022-02-14</th>\n",
              "      <td>167.369995</td>\n",
              "      <td>168.880005</td>\n",
              "    </tr>\n",
              "    <tr>\n",
              "      <th>2022-02-15</th>\n",
              "      <td>170.970001</td>\n",
              "      <td>172.789993</td>\n",
              "    </tr>\n",
              "    <tr>\n",
              "      <th>2022-02-16</th>\n",
              "      <td>171.850006</td>\n",
              "      <td>172.550003</td>\n",
              "    </tr>\n",
              "    <tr>\n",
              "      <th>2022-02-17</th>\n",
              "      <td>171.029999</td>\n",
              "      <td>168.880005</td>\n",
              "    </tr>\n",
              "    <tr>\n",
              "      <th>2022-02-18</th>\n",
              "      <td>169.820007</td>\n",
              "      <td>167.300003</td>\n",
              "    </tr>\n",
              "    <tr>\n",
              "      <th>2022-02-22</th>\n",
              "      <td>164.979996</td>\n",
              "      <td>164.320007</td>\n",
              "    </tr>\n",
              "    <tr>\n",
              "      <th>2022-02-23</th>\n",
              "      <td>165.539993</td>\n",
              "      <td>160.070007</td>\n",
              "    </tr>\n",
              "    <tr>\n",
              "      <th>2022-02-24</th>\n",
              "      <td>152.580002</td>\n",
              "      <td>162.740005</td>\n",
              "    </tr>\n",
              "    <tr>\n",
              "      <th>2022-02-25</th>\n",
              "      <td>163.839996</td>\n",
              "      <td>164.850006</td>\n",
              "    </tr>\n",
              "    <tr>\n",
              "      <th>2022-02-28</th>\n",
              "      <td>163.059998</td>\n",
              "      <td>165.119995</td>\n",
              "    </tr>\n",
              "    <tr>\n",
              "      <th>2022-03-01</th>\n",
              "      <td>164.699997</td>\n",
              "      <td>163.199997</td>\n",
              "    </tr>\n",
              "    <tr>\n",
              "      <th>2022-03-02</th>\n",
              "      <td>164.389999</td>\n",
              "      <td>166.559998</td>\n",
              "    </tr>\n",
              "    <tr>\n",
              "      <th>2022-03-03</th>\n",
              "      <td>168.470001</td>\n",
              "      <td>166.229996</td>\n",
              "    </tr>\n",
              "    <tr>\n",
              "      <th>2022-03-04</th>\n",
              "      <td>164.490005</td>\n",
              "      <td>163.169998</td>\n",
              "    </tr>\n",
              "    <tr>\n",
              "      <th>2022-03-07</th>\n",
              "      <td>163.360001</td>\n",
              "      <td>159.300003</td>\n",
              "    </tr>\n",
              "    <tr>\n",
              "      <th>2022-03-08</th>\n",
              "      <td>158.820007</td>\n",
              "      <td>157.440002</td>\n",
              "    </tr>\n",
              "    <tr>\n",
              "      <th>2022-03-09</th>\n",
              "      <td>161.479996</td>\n",
              "      <td>162.949997</td>\n",
              "    </tr>\n",
              "    <tr>\n",
              "      <th>2022-03-09</th>\n",
              "      <td>161.475006</td>\n",
              "      <td>162.949997</td>\n",
              "    </tr>\n",
              "  </tbody>\n",
              "</table>\n",
              "</div>"
            ],
            "text/plain": [
              "                  Open       Close\n",
              "Date                              \n",
              "2022-02-09  176.050003  176.279999\n",
              "2022-02-10  174.139999  172.119995\n",
              "2022-02-11  172.330002  168.639999\n",
              "2022-02-14  167.369995  168.880005\n",
              "2022-02-15  170.970001  172.789993\n",
              "2022-02-16  171.850006  172.550003\n",
              "2022-02-17  171.029999  168.880005\n",
              "2022-02-18  169.820007  167.300003\n",
              "2022-02-22  164.979996  164.320007\n",
              "2022-02-23  165.539993  160.070007\n",
              "2022-02-24  152.580002  162.740005\n",
              "2022-02-25  163.839996  164.850006\n",
              "2022-02-28  163.059998  165.119995\n",
              "2022-03-01  164.699997  163.199997\n",
              "2022-03-02  164.389999  166.559998\n",
              "2022-03-03  168.470001  166.229996\n",
              "2022-03-04  164.490005  163.169998\n",
              "2022-03-07  163.360001  159.300003\n",
              "2022-03-08  158.820007  157.440002\n",
              "2022-03-09  161.479996  162.949997\n",
              "2022-03-09  161.475006  162.949997"
            ]
          },
          "execution_count": 8,
          "metadata": {},
          "output_type": "execute_result"
        }
      ],
      "source": [
        "df[[\"Open\",\"Close\"]].tail(30)"
      ]
    },
    {
      "cell_type": "code",
      "execution_count": null,
      "id": "7005536b",
      "metadata": {
        "id": "7005536b",
        "outputId": "29c23e04-d2a5-4526-f99f-3352e6d78ea3"
      },
      "outputs": [
        {
          "data": {
            "text/plain": [
              "<AxesSubplot:xlabel='Date'>"
            ]
          },
          "execution_count": 13,
          "metadata": {},
          "output_type": "execute_result"
        },
        {
          "data": {
            "image/png": "[encoded data removed]",
            "text/plain": [
              "<Figure size 432x288 with 1 Axes>"
            ]
          },
          "metadata": {
            "needs_background": "light"
          },
          "output_type": "display_data"
        }
      ],
      "source": [
        "df[[\"Open\",\"Close\"]].tail(30).plot()"
      ]
    },
    {
      "cell_type": "code",
      "execution_count": null,
      "id": "b44b7cec",
      "metadata": {
        "id": "b44b7cec"
      },
      "outputs": [],
      "source": [
        ""
      ]
    }
  ],
  "metadata": {
    "kernelspec": {
      "display_name": "Python 3 (ipykernel)",
      "language": "python",
      "name": "python3"
    },
    "language_info": {
      "codemirror_mode": {
        "name": "ipython",
        "version": 3
      },
      "file_extension": ".py",
      "mimetype": "text/x-python",
      "name": "python",
      "nbconvert_exporter": "python",
      "pygments_lexer": "ipython3",
      "version": "3.9.7"
    },
    "colab": {
      "name": "Pandas.ipynb",
      "provenance": [],
      "include_colab_link": true
    }
  },
  "nbformat": 4,
  "nbformat_minor": 5
}