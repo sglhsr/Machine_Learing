{
  "nbformat": 4,
  "nbformat_minor": 0,
  "metadata": {
    "colab": {
      "name": "練習手寫辨識DNN.ipynb",
      "provenance": [],
      "collapsed_sections": [],
      "authorship_tag": "ABX9TyPE/mrdAcY09w4RnKLAEUo8",
      "include_colab_link": true
    },
    "kernelspec": {
      "name": "python3",
      "display_name": "Python 3"
    },
    "language_info": {
      "name": "python"
    },
    "accelerator": "GPU",
    "widgets": {
      "application/vnd.jupyter.widget-state+json": {
        "60cf935c5b984465b8e3682cc3809e4f": {
          "model_module": "@jupyter-widgets/controls",
          "model_name": "VBoxModel",
          "model_module_version": "1.5.0",
          "state": {
            "_dom_classes": [
              "widget-interact"
            ],
            "_model_module": "@jupyter-widgets/controls",
            "_model_module_version": "1.5.0",
            "_model_name": "VBoxModel",
            "_view_count": null,
            "_view_module": "@jupyter-widgets/controls",
            "_view_module_version": "1.5.0",
            "_view_name": "VBoxView",
            "box_style": "",
            "children": [
              "IPY_MODEL_2a524340a952481bbad93dc986e18915",
              "IPY_MODEL_4734726546ee4263b058a3cf571ca3d4",
              "IPY_MODEL_943ad511730f4379a052412c83876d9c"
            ],
            "layout": "IPY_MODEL_21fbb36d01844f21afc2999011a4ff94"
          }
        },
        "2a524340a952481bbad93dc986e18915": {
          "model_module": "@jupyter-widgets/controls",
          "model_name": "IntSliderModel",
          "model_module_version": "1.5.0",
          "state": {
            "_dom_classes": [],
            "_model_module": "@jupyter-widgets/controls",
            "_model_module_version": "1.5.0",
            "_model_name": "IntSliderModel",
            "_view_count": null,
            "_view_module": "@jupyter-widgets/controls",
            "_view_module_version": "1.5.0",
            "_view_name": "IntSliderView",
            "continuous_update": true,
            "description": "測試編號",
            "description_tooltip": null,
            "disabled": false,
            "layout": "IPY_MODEL_ab6a6e17a29b4df7a7a9059be1e38ec1",
            "max": 9999,
            "min": 0,
            "orientation": "horizontal",
            "readout": true,
            "readout_format": "d",
            "step": 1,
            "style": "IPY_MODEL_de28664a9c164b8f8509f7f6b9e0498a",
            "value": 1387
          }
        },
        "4734726546ee4263b058a3cf571ca3d4": {
          "model_module": "@jupyter-widgets/controls",
          "model_name": "ButtonModel",
          "model_module_version": "1.5.0",
          "state": {
            "_dom_classes": [],
            "_model_module": "@jupyter-widgets/controls",
            "_model_module_version": "1.5.0",
            "_model_name": "ButtonModel",
            "_view_count": null,
            "_view_module": "@jupyter-widgets/controls",
            "_view_module_version": "1.5.0",
            "_view_name": "ButtonView",
            "button_style": "",
            "description": "Run Interact",
            "disabled": false,
            "icon": "",
            "layout": "IPY_MODEL_a13118fd41af42dbbecc302bef985e58",
            "style": "IPY_MODEL_4f0bd8b5e53a496895907b082f3e2483",
            "tooltip": ""
          }
        },
        "943ad511730f4379a052412c83876d9c": {
          "model_module": "@jupyter-widgets/output",
          "model_name": "OutputModel",
          "model_module_version": "1.0.0",
          "state": {
            "_dom_classes": [],
            "_model_module": "@jupyter-widgets/output",
            "_model_module_version": "1.0.0",
            "_model_name": "OutputModel",
            "_view_count": null,
            "_view_module": "@jupyter-widgets/output",
            "_view_module_version": "1.0.0",
            "_view_name": "OutputView",
            "layout": "IPY_MODEL_e029d762821c44a3a5db314120c2d616",
            "msg_id": "",
            "outputs": [
              {
                "output_type": "stream",
                "name": "stdout",
                "text": [
                  "(28, 28)\n",
                  "y_test: [0. 0. 0. 0. 0. 0. 1. 0. 0. 0.]\n",
                  "神經網路判斷為: 6\n"
                ]
              },
              {
                "output_type": "display_data",
                "data": {
                  "text/plain": "<Figure size 432x288 with 1 Axes>",
                  "image/png": "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\n"
                },
                "metadata": {
                  "needs_background": "light"
                }
              }
            ]
          }
        },
        "21fbb36d01844f21afc2999011a4ff94": {
          "model_module": "@jupyter-widgets/base",
          "model_name": "LayoutModel",
          "model_module_version": "1.2.0",
          "state": {
            "_model_module": "@jupyter-widgets/base",
            "_model_module_version": "1.2.0",
            "_model_name": "LayoutModel",
            "_view_count": null,
            "_view_module": "@jupyter-widgets/base",
            "_view_module_version": "1.2.0",
            "_view_name": "LayoutView",
            "align_content": null,
            "align_items": null,
            "align_self": null,
            "border": null,
            "bottom": null,
            "display": null,
            "flex": null,
            "flex_flow": null,
            "grid_area": null,
            "grid_auto_columns": null,
            "grid_auto_flow": null,
            "grid_auto_rows": null,
            "grid_column": null,
            "grid_gap": null,
            "grid_row": null,
            "grid_template_areas": null,
            "grid_template_columns": null,
            "grid_template_rows": null,
            "height": null,
            "justify_content": null,
            "justify_items": null,
            "left": null,
            "margin": null,
            "max_height": null,
            "max_width": null,
            "min_height": null,
            "min_width": null,
            "object_fit": null,
            "object_position": null,
            "order": null,
            "overflow": null,
            "overflow_x": null,
            "overflow_y": null,
            "padding": null,
            "right": null,
            "top": null,
            "visibility": null,
            "width": null
          }
        },
        "ab6a6e17a29b4df7a7a9059be1e38ec1": {
          "model_module": "@jupyter-widgets/base",
          "model_name": "LayoutModel",
          "model_module_version": "1.2.0",
          "state": {
            "_model_module": "@jupyter-widgets/base",
            "_model_module_version": "1.2.0",
            "_model_name": "LayoutModel",
            "_view_count": null,
            "_view_module": "@jupyter-widgets/base",
            "_view_module_version": "1.2.0",
            "_view_name": "LayoutView",
            "align_content": null,
            "align_items": null,
            "align_self": null,
            "border": null,
            "bottom": null,
            "display": null,
            "flex": null,
            "flex_flow": null,
            "grid_area": null,
            "grid_auto_columns": null,
            "grid_auto_flow": null,
            "grid_auto_rows": null,
            "grid_column": null,
            "grid_gap": null,
            "grid_row": null,
            "grid_template_areas": null,
            "grid_template_columns": null,
            "grid_template_rows": null,
            "height": null,
            "justify_content": null,
            "justify_items": null,
            "left": null,
            "margin": null,
            "max_height": null,
            "max_width": null,
            "min_height": null,
            "min_width": null,
            "object_fit": null,
            "object_position": null,
            "order": null,
            "overflow": null,
            "overflow_x": null,
            "overflow_y": null,
            "padding": null,
            "right": null,
            "top": null,
            "visibility": null,
            "width": null
          }
        },
        "de28664a9c164b8f8509f7f6b9e0498a": {
          "model_module": "@jupyter-widgets/controls",
          "model_name": "SliderStyleModel",
          "model_module_version": "1.5.0",
          "state": {
            "_model_module": "@jupyter-widgets/controls",
            "_model_module_version": "1.5.0",
            "_model_name": "SliderStyleModel",
            "_view_count": null,
            "_view_module": "@jupyter-widgets/base",
            "_view_module_version": "1.2.0",
            "_view_name": "StyleView",
            "description_width": "",
            "handle_color": null
          }
        },
        "a13118fd41af42dbbecc302bef985e58": {
          "model_module": "@jupyter-widgets/base",
          "model_name": "LayoutModel",
          "model_module_version": "1.2.0",
          "state": {
            "_model_module": "@jupyter-widgets/base",
            "_model_module_version": "1.2.0",
            "_model_name": "LayoutModel",
            "_view_count": null,
            "_view_module": "@jupyter-widgets/base",
            "_view_module_version": "1.2.0",
            "_view_name": "LayoutView",
            "align_content": null,
            "align_items": null,
            "align_self": null,
            "border": null,
            "bottom": null,
            "display": null,
            "flex": null,
            "flex_flow": null,
            "grid_area": null,
            "grid_auto_columns": null,
            "grid_auto_flow": null,
            "grid_auto_rows": null,
            "grid_column": null,
            "grid_gap": null,
            "grid_row": null,
            "grid_template_areas": null,
            "grid_template_columns": null,
            "grid_template_rows": null,
            "height": null,
            "justify_content": null,
            "justify_items": null,
            "left": null,
            "margin": null,
            "max_height": null,
            "max_width": null,
            "min_height": null,
            "min_width": null,
            "object_fit": null,
            "object_position": null,
            "order": null,
            "overflow": null,
            "overflow_x": null,
            "overflow_y": null,
            "padding": null,
            "right": null,
            "top": null,
            "visibility": null,
            "width": null
          }
        },
        "4f0bd8b5e53a496895907b082f3e2483": {
          "model_module": "@jupyter-widgets/controls",
          "model_name": "ButtonStyleModel",
          "model_module_version": "1.5.0",
          "state": {
            "_model_module": "@jupyter-widgets/controls",
            "_model_module_version": "1.5.0",
            "_model_name": "ButtonStyleModel",
            "_view_count": null,
            "_view_module": "@jupyter-widgets/base",
            "_view_module_version": "1.2.0",
            "_view_name": "StyleView",
            "button_color": null,
            "font_weight": ""
          }
        },
        "e029d762821c44a3a5db314120c2d616": {
          "model_module": "@jupyter-widgets/base",
          "model_name": "LayoutModel",
          "model_module_version": "1.2.0",
          "state": {
            "_model_module": "@jupyter-widgets/base",
            "_model_module_version": "1.2.0",
            "_model_name": "LayoutModel",
            "_view_count": null,
            "_view_module": "@jupyter-widgets/base",
            "_view_module_version": "1.2.0",
            "_view_name": "LayoutView",
            "align_content": null,
            "align_items": null,
            "align_self": null,
            "border": null,
            "bottom": null,
            "display": null,
            "flex": null,
            "flex_flow": null,
            "grid_area": null,
            "grid_auto_columns": null,
            "grid_auto_flow": null,
            "grid_auto_rows": null,
            "grid_column": null,
            "grid_gap": null,
            "grid_row": null,
            "grid_template_areas": null,
            "grid_template_columns": null,
            "grid_template_rows": null,
            "height": null,
            "justify_content": null,
            "justify_items": null,
            "left": null,
            "margin": null,
            "max_height": null,
            "max_width": null,
            "min_height": null,
            "min_width": null,
            "object_fit": null,
            "object_position": null,
            "order": null,
            "overflow": null,
            "overflow_x": null,
            "overflow_y": null,
            "padding": null,
            "right": null,
            "top": null,
            "visibility": null,
            "width": null
          }
        }
      }
    }
  },
  "cells": [
    {
      "cell_type": "markdown",
      "metadata": {
        "id": "view-in-github",
        "colab_type": "text"
      },
      "source": [
        "<a href=\"https://colab.research.google.com/github/sglhsr/Machine_Learing/blob/main/%E7%B7%B4%E7%BF%92%E6%89%8B%E5%AF%AB%E8%BE%A8%E8%AD%98DNN.ipynb\" target=\"_parent\"><img src=\"https://colab.research.google.com/assets/colab-badge.svg\" alt=\"Open In Colab\"/></a>"
      ]
    },
    {
      "cell_type": "code",
      "execution_count": null,
      "metadata": {
        "id": "HFFBA9MMSslz"
      },
      "outputs": [],
      "source": [
        "%matplotlib inline\n",
        "\n",
        "import numpy as np\n",
        "import matplotlib.pyplot as plt\n",
        "import pandas as pd"
      ]
    },
    {
      "cell_type": "code",
      "source": [
        "#utils for onehot-encoding,  to_categorical: 把它變成onehot-encoding\n",
        "#把結果變成唯一的矩陣\n",
        "from tensorflow.keras.utils import to_categorical\n",
        "#Sequential 打開函數學習機的指令, 在models裡\n",
        "from tensorflow.keras.models import Sequential\n",
        "#Dense打造隱藏層 DNN全連結的神經網路(神經最密的)\n",
        "#會要求讀入最佳的學習法Gradient descent 優化器\n",
        "from tensorflow.keras.layers import Dense\n",
        "#學習率（Learning Rate)掌握模型的學習進度，如何調整學習率是訓練出好模型的關鍵要素\n",
        "#Learning Rate太小 波度下降會很慢,太大又可能一直繞錯方向\n",
        "#計算Momentum動量的變化\n",
        "#有SGD或Adam  就是一種Gradient descent\n",
        "from tensorflow.keras.optimizers import SGD"
      ],
      "metadata": {
        "id": "NZi8KeLTVJG_"
      },
      "execution_count": null,
      "outputs": []
    },
    {
      "cell_type": "code",
      "source": [
        "#讀入MNSIT 手寫數字數據集\n",
        "from tensorflow.keras.datasets import mnist\n",
        "(x_train,y_train),(x_test,y_test)=mnist.load_data()\n",
        "#也可以讀fansion版的mnist\n",
        "#改成服裝的數據集\n",
        "# from tensorflow.keras.datasets import fashion_mnist\n",
        "# (x_train,y_train),(x_test,y_test)=fashion_mnist.load_data()"
      ],
      "metadata": {
        "id": "1s7o5Fg22MHM"
      },
      "execution_count": null,
      "outputs": []
    },
    {
      "cell_type": "code",
      "source": [
        "len(x_train)  #預設60000筆訓練資料\n",
        "len(x_test)   #預設10000筆測試資料"
      ],
      "metadata": {
        "colab": {
          "base_uri": "https://localhost:8080/"
        },
        "id": "trCKh_i6AySb",
        "outputId": "c1f089b1-2645-450b-ad7a-2fd1e74763b4"
      },
      "execution_count": null,
      "outputs": [
        {
          "output_type": "execute_result",
          "data": {
            "text/plain": [
              "10000"
            ]
          },
          "metadata": {},
          "execution_count": 89
        }
      ]
    },
    {
      "cell_type": "code",
      "source": [
        "n=8246\n",
        "x_train[n].shape\n",
        "# x_train[n]  #手寫數字圖 每筆是28*28的矩陣\n",
        "x_train.shape  #全部合起來就是(60000,28,28)\n",
        "y_train[n] #結果"
      ],
      "metadata": {
        "colab": {
          "base_uri": "https://localhost:8080/"
        },
        "id": "4qCgOlj-A2-F",
        "outputId": "087a3f95-643a-4d2f-9e43-7b5acf9d2c93"
      },
      "execution_count": null,
      "outputs": [
        {
          "output_type": "execute_result",
          "data": {
            "text/plain": [
              "3"
            ]
          },
          "metadata": {},
          "execution_count": 90
        }
      ]
    },
    {
      "cell_type": "code",
      "source": [
        "# import matplotlib.pyplot as plt\n",
        "#cmap顏色主題\n",
        "plt.imshow(x_train[n],cmap='Greys')\n"
      ],
      "metadata": {
        "colab": {
          "base_uri": "https://localhost:8080/",
          "height": 283
        },
        "id": "Wh0ucLOKCUq4",
        "outputId": "6499f5c6-a2cd-464a-e21d-bad78c4538ae"
      },
      "execution_count": null,
      "outputs": [
        {
          "output_type": "execute_result",
          "data": {
            "text/plain": [
              "<matplotlib.image.AxesImage at 0x7f4dadf0c0d0>"
            ]
          },
          "metadata": {},
          "execution_count": 91
        },
        {
          "output_type": "display_data",
          "data": {
            "text/plain": [
              "<Figure size 432x288 with 1 Axes>"
            ],
            "image/png": "[encoded data removed]"
          },
          "metadata": {
            "needs_background": "light"
          }
        }
      ]
    },
    {
      "cell_type": "code",
      "source": [
        "#資料整理\n",
        "#轉成60000個784維的陣列 每個值除255轉成0/1\n",
        "x_train=x_train.reshape(60000,784)/255\n",
        "x_test=x_test.reshape(10000,784)/255\n",
        "print(\"Print\",y_train[n])\n",
        "#每個結果轉成[0., 0., 0., 0., 0., 0., 0., 0., 0., 1.]\n",
        "#onehot-encoding\n",
        "y_train=to_categorical(y_train,10)\n",
        "y_test=to_categorical(y_test,10)\n",
        "#y_train轉成(50000,10)\n",
        "# y_train.shape\n",
        "y_train[n]\n"
      ],
      "metadata": {
        "colab": {
          "base_uri": "https://localhost:8080/"
        },
        "id": "_lBRvfPsDKAG",
        "outputId": "f27e33e6-1124-4d28-dfef-0bd55c3353e8"
      },
      "execution_count": null,
      "outputs": [
        {
          "output_type": "stream",
          "name": "stdout",
          "text": [
            "Print 3\n"
          ]
        },
        {
          "output_type": "execute_result",
          "data": {
            "text/plain": [
              "array([0., 0., 0., 1., 0., 0., 0., 0., 0., 0.], dtype=float32)"
            ]
          },
          "metadata": {},
          "execution_count": 92
        }
      ]
    },
    {
      "cell_type": "markdown",
      "source": [
        "4. step 1: 打造神經網路(函數學習機)"
      ],
      "metadata": {
        "id": "o94CqAvCJRSX"
      }
    },
    {
      "cell_type": "code",
      "source": [
        "#決定要幾層隱藏層,每層幾個神經元\n",
        "#Sequential打造神經網路\n",
        "model=Sequential()\n",
        "#假設用3層隱藏層 20個神經元, 20,20,20 的隱藏層\n",
        "#20個神經元,第一層不知道前面input的shape (784個像素),要input_dim幾個\n",
        "#激勵函數,把線性掰彎\n",
        "model.add(Dense(200,input_dim=784 ,activation='relu'))\n",
        "#第二,三層\n",
        "model.add(Dense(200,activation='relu'))\n",
        "model.add(Dense(200,activation='relu'))\n",
        "#output 10個的矩陣, softmax:全部output加起來=1\n",
        "#e.x. 0123456789[0., 0., 0., 0., 0., 0., 0., 0., 0., 1.]\n",
        "model.add(Dense(10,activation='softmax'))"
      ],
      "metadata": {
        "id": "7mM1nYRt_mEY"
      },
      "execution_count": null,
      "outputs": []
    },
    {
      "cell_type": "markdown",
      "source": [
        "組裝神經網路"
      ],
      "metadata": {
        "id": "XQrYpttQS90C"
      }
    },
    {
      "cell_type": "code",
      "source": [
        "#選擇loss來計算誤差,mse:最標準的平均平方差,\n",
        "#Optimizer選擇SGD,Learning_rate亂選,越小要訓練次數越多\n",
        "#meterics:訓練中會show出正確率多少\n",
        "model.compile(loss='mse',optimizer=SGD(learning_rate=0.087),metrics=['accuracy'])"
      ],
      "metadata": {
        "id": "-NMBDLtjEU2T"
      },
      "execution_count": null,
      "outputs": []
    },
    {
      "cell_type": "markdown",
      "source": [
        "觀看結果"
      ],
      "metadata": {
        "id": "CM28FwNfVDFd"
      }
    },
    {
      "cell_type": "code",
      "source": [
        "#看神經網路架構, 三個隱藏層 最後一個是輸出層\n",
        "#隱藏層已知輸入層的數量,所以不需show\n",
        "#Output_Shape: 一批一批batch送進去訓練\n",
        "#e.x 50 看完50筆後要調參數檢討,\n",
        "#Batch None:表示Batch幾筆資料都可以, 有彈性,不指定\n",
        "#第一層要算784*20+20(Bias偏值)=15700個參數 美個神經元有自的偏值\n",
        "#第二三層:20*20+20=420 輸出層:20*10+10=210\n",
        "#total 15700+420+420+210=16750個參數\n",
        "model.summary()"
      ],
      "metadata": {
        "colab": {
          "base_uri": "https://localhost:8080/"
        },
        "id": "LZL4l-YSUske",
        "outputId": "75c01b44-cfb5-4276-fc91-eff3821b2396"
      },
      "execution_count": null,
      "outputs": [
        {
          "output_type": "stream",
          "name": "stdout",
          "text": [
            "Model: \"sequential_5\"\n",
            "_________________________________________________________________\n",
            " Layer (type)                Output Shape              Param #   \n",
            "=================================================================\n",
            " dense_20 (Dense)            (None, 200)               157000    \n",
            "                                                                 \n",
            " dense_21 (Dense)            (None, 200)               40200     \n",
            "                                                                 \n",
            " dense_22 (Dense)            (None, 200)               40200     \n",
            "                                                                 \n",
            " dense_23 (Dense)            (None, 10)                2010      \n",
            "                                                                 \n",
            "=================================================================\n",
            "Total params: 239,410\n",
            "Trainable params: 239,410\n",
            "Non-trainable params: 0\n",
            "_________________________________________________________________\n"
          ]
        }
      ]
    },
    {
      "cell_type": "markdown",
      "source": [
        "5. step2:訓練"
      ],
      "metadata": {
        "id": "PMht-l-Yhfrh"
      }
    },
    {
      "cell_type": "markdown",
      "source": [
        ""
      ],
      "metadata": {
        "id": "iaCXitKBhfXQ"
      }
    },
    {
      "cell_type": "code",
      "source": [
        "#開始訓練 訓練資料 訓練答案丟進去 \n",
        "#batch_size,每次訓練的樣本數 看完100個手寫辨識後調一次參數 \n",
        "#batch_size影響模型的優化程度和速度,在ram的效率跟容量間找平衡\n",
        "#epochs 連續訓練幾次\n",
        "#（1）batchsize：批大小。在深度學習中，一般採用SGD訓練，即每次訓練在訓練集中取batchsize個樣本訓練；\n",
        "#（2）iteration：1個iteration等於使用batchsize個樣本訓練一次；\n",
        "# （3）epoch：1個epoch等於使用訓練集中的全部樣本訓練一次；讓神經網路學幾次\n",
        "# 舉個例子，訓練集有1000個樣本，batchsize=10，那麼：\n",
        "# 訓練完整個樣本集需要：\n",
        "# 100次iteration，1次epoch。\n",
        "model.fit(x_train,y_train,batch_size=100,epochs=10)\n",
        "\n",
        "#要看正確率accuracy有沒有慢慢墊高,有變高就是還有進步空間,就在執行一次\n"
      ],
      "metadata": {
        "colab": {
          "base_uri": "https://localhost:8080/"
        },
        "id": "q4xy80-IaNQV",
        "outputId": "fe16786d-b5f0-40fb-f59b-00c37e836152"
      },
      "execution_count": null,
      "outputs": [
        {
          "output_type": "stream",
          "name": "stdout",
          "text": [
            "Epoch 1/10\n",
            "600/600 [==============================] - 2s 3ms/step - loss: 0.0861 - accuracy: 0.3505\n",
            "Epoch 2/10\n",
            "600/600 [==============================] - 2s 3ms/step - loss: 0.0566 - accuracy: 0.6657\n",
            "Epoch 3/10\n",
            "600/600 [==============================] - 2s 3ms/step - loss: 0.0278 - accuracy: 0.8451\n",
            "Epoch 4/10\n",
            "600/600 [==============================] - 2s 3ms/step - loss: 0.0198 - accuracy: 0.8819\n",
            "Epoch 5/10\n",
            "600/600 [==============================] - 2s 3ms/step - loss: 0.0167 - accuracy: 0.8967\n",
            "Epoch 6/10\n",
            "600/600 [==============================] - 2s 4ms/step - loss: 0.0151 - accuracy: 0.9054\n",
            "Epoch 7/10\n",
            "600/600 [==============================] - 2s 3ms/step - loss: 0.0139 - accuracy: 0.9128\n",
            "Epoch 8/10\n",
            "600/600 [==============================] - 2s 3ms/step - loss: 0.0131 - accuracy: 0.9172\n",
            "Epoch 9/10\n",
            "600/600 [==============================] - 2s 3ms/step - loss: 0.0124 - accuracy: 0.9215\n",
            "Epoch 10/10\n",
            "600/600 [==============================] - 2s 3ms/step - loss: 0.0118 - accuracy: 0.9245\n"
          ]
        },
        {
          "output_type": "execute_result",
          "data": {
            "text/plain": [
              "<keras.callbacks.History at 0x7f4dadf47490>"
            ]
          },
          "metadata": {},
          "execution_count": 96
        }
      ]
    },
    {
      "cell_type": "markdown",
      "source": [
        "6. step 預測"
      ],
      "metadata": {
        "id": "Eyz6eDMXVChz"
      }
    },
    {
      "cell_type": "code",
      "source": [
        "#np.argmax 找出最大值的index\n",
        "#axis一矩陣往下算該欄每列總和:axis=0, 算該列每欄總和axis=1 or -1\n",
        "a=model.predict(x_test)\n",
        "print(y_test[3])\n",
        "print(a[3])\n",
        "print(np.argmax(a,axis=-1))\n",
        "y_predict=np.argmax(model.predict(x_test),axis=-1)\n",
        "print(y_predict)"
      ],
      "metadata": {
        "colab": {
          "base_uri": "https://localhost:8080/"
        },
        "id": "NKU1KQdt-_AG",
        "outputId": "a120b381-daed-4fb7-f806-84f6f43509e9"
      },
      "execution_count": null,
      "outputs": [
        {
          "output_type": "stream",
          "name": "stdout",
          "text": [
            "[1. 0. 0. 0. 0. 0. 0. 0. 0. 0.]\n",
            "[9.9745089e-01 2.9076327e-10 1.7463269e-04 1.3663088e-05 3.0921292e-08\n",
            " 2.1929713e-03 7.7378761e-05 2.6856855e-05 6.2565960e-05 8.8820576e-07]\n",
            "[7 2 1 ... 4 5 6]\n",
            "[7 2 1 ... 4 5 6]\n"
          ]
        }
      ]
    },
    {
      "cell_type": "markdown",
      "source": [
        "用互動模式展示訓練成果"
      ],
      "metadata": {
        "id": "GqyMiQWROkvy"
      }
    },
    {
      "cell_type": "code",
      "source": [
        "from ipywidgets import interact_manual\n",
        "def test(測試編號):\n",
        "  print(x_test[測試編號].reshape(28,28).shape)\n",
        "  print(\"y_test:\",y_test[測試編號])\n",
        "  plt.imshow(x_test[測試編號].reshape(28,28),cmap='Greys')\n",
        "  print(\"神經網路判斷為:\", y_predict[測試編號])\n",
        "interact_manual(test,測試編號=(0,9999));"
      ],
      "metadata": {
        "colab": {
          "base_uri": "https://localhost:8080/",
          "height": 384,
          "referenced_widgets": [
            "60cf935c5b984465b8e3682cc3809e4f",
            "2a524340a952481bbad93dc986e18915",
            "4734726546ee4263b058a3cf571ca3d4",
            "943ad511730f4379a052412c83876d9c",
            "21fbb36d01844f21afc2999011a4ff94",
            "ab6a6e17a29b4df7a7a9059be1e38ec1",
            "de28664a9c164b8f8509f7f6b9e0498a",
            "a13118fd41af42dbbecc302bef985e58",
            "4f0bd8b5e53a496895907b082f3e2483",
            "e029d762821c44a3a5db314120c2d616"
          ]
        },
        "id": "SWGaRKOyKJ3V",
        "outputId": "1f79609f-5f64-4d3c-c51d-d574a66e9154"
      },
      "execution_count": null,
      "outputs": [
        {
          "output_type": "display_data",
          "data": {
            "text/plain": [
              "interactive(children=(IntSlider(value=4999, description='測試編號', max=9999), Button(description='Run Interact', …"
            ],
            "application/vnd.jupyter.widget-view+json": {
              "version_major": 2,
              "version_minor": 0,
              "model_id": "60cf935c5b984465b8e3682cc3809e4f"
            }
          },
          "metadata": {}
        }
      ]
    },
    {
      "cell_type": "markdown",
      "source": [
        "看測試資料狀況,給神經網路總評量"
      ],
      "metadata": {
        "id": "kMS7czhhUKvb"
      }
    },
    {
      "cell_type": "code",
      "source": [
        "score=model.evaluate(x_test,y_test)\n",
        "print(\"loss:\",score[0])\n",
        "print(\"accurate:\",score[1])\n",
        "#"
      ],
      "metadata": {
        "colab": {
          "base_uri": "https://localhost:8080/"
        },
        "id": "ooNbFtI6UKBG",
        "outputId": "a3ad1dca-d218-4e24-e330-0488fddcef76"
      },
      "execution_count": null,
      "outputs": [
        {
          "output_type": "stream",
          "name": "stdout",
          "text": [
            "313/313 [==============================] - 1s 3ms/step - loss: 0.0112 - accuracy: 0.9279\n",
            "loss: 0.011243510991334915\n",
            "accurate: 0.9279000163078308\n"
          ]
        }
      ]
    },
    {
      "cell_type": "markdown",
      "source": [
        "如果訓練OK,可以存到google drive供日後使用"
      ],
      "metadata": {
        "id": "QwXvLTN_VHZj"
      }
    },
    {
      "cell_type": "code",
      "source": [
        "from google.colab import drive\n",
        "drive.mount('/content/drive')\n"
      ],
      "metadata": {
        "id": "eq7fmTE0UJ_E",
        "colab": {
          "base_uri": "https://localhost:8080/"
        },
        "outputId": "2a816da2-8348-42be-f1f7-7cf6522a800b"
      },
      "execution_count": null,
      "outputs": [
        {
          "output_type": "stream",
          "name": "stdout",
          "text": [
            "Mounted at /content/drive\n"
          ]
        }
      ]
    },
    {
      "cell_type": "markdown",
      "source": [
        "CD到Colab資料夾"
      ],
      "metadata": {
        "id": "elSpvygIcRz2"
      }
    },
    {
      "cell_type": "code",
      "source": [
        "#My Drive是GOOGLE預設的名\n",
        "%cd '/content/drive/My Drive/Colab Notebooks'\n",
        "model.save('My_DNN_Model')"
      ],
      "metadata": {
        "id": "jszTMsv8UJ7u",
        "colab": {
          "base_uri": "https://localhost:8080/"
        },
        "outputId": "2cbebbac-cb6d-4e8a-e85e-9e54cdb076c8"
      },
      "execution_count": null,
      "outputs": [
        {
          "output_type": "stream",
          "name": "stdout",
          "text": [
            "/content/drive/My Drive/Colab Notebooks\n",
            "INFO:tensorflow:Assets written to: My_DNN_Model/assets\n"
          ]
        }
      ]
    },
    {
      "cell_type": "code",
      "source": [
        ""
      ],
      "metadata": {
        "id": "X1q240JFPyGX"
      },
      "execution_count": null,
      "outputs": []
    }
  ]
}