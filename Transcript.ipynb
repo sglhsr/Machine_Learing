{
  "cells": [
    {
      "cell_type": "markdown",
      "metadata": {
        "id": "view-in-github",
        "colab_type": "text"
      },
      "source": [
        "<a href=\"https://colab.research.google.com/github/sglhsr/Machine_Learing/blob/main/Transcript.ipynb\" target=\"_parent\"><img src=\"https://colab.research.google.com/assets/colab-badge.svg\" alt=\"Open In Colab\"/></a>"
      ]
    },
    {
      "cell_type": "code",
      "execution_count": null,
      "id": "cbd6d4e2",
      "metadata": {
        "id": "cbd6d4e2",
        "outputId": "2fbc0b0b-427b-4274-ec39-771716d5ea83"
      },
      "outputs": [
        {
          "name": "stdout",
          "output_type": "stream",
          "text": [
            "Populating the interactive namespace from numpy and matplotlib\n"
          ]
        }
      ],
      "source": [
        "%pylab inline\n",
        "import pandas as pd"
      ]
    },
    {
      "cell_type": "code",
      "execution_count": null,
      "id": "8877b703",
      "metadata": {
        "id": "8877b703",
        "outputId": "22b79ad6-4169-4319-9d7b-42b0b353e32e"
      },
      "outputs": [
        {
          "data": {
            "text/plain": [
              "['林佳貴', '林孟倫', '楊佳云', '李奎秀', '邱志瑋', '童上雄', '葉怡君', '賴佳琳', '蔡允宣', '王法漢']"
            ]
          },
          "execution_count": 10,
          "metadata": {},
          "output_type": "execute_result"
        }
      ],
      "source": [
        "#中文姓名產生器\n",
        "name_str=\"林佳貴, 林孟倫, 楊佳云, 李奎秀, 邱志瑋, 童上雄, 葉怡君, 賴佳琳, 蔡允宣, 王法漢\"\n",
        "name_lst=name_str.split(\", \")\n",
        "name_lst"
      ]
    },
    {
      "cell_type": "code",
      "execution_count": null,
      "id": "34c2a57b",
      "metadata": {
        "id": "34c2a57b",
        "outputId": "596485ff-40a7-4f52-8541-7b19e2e3eee6"
      },
      "outputs": [
        {
          "data": {
            "text/plain": [
              "10"
            ]
          },
          "execution_count": 11,
          "metadata": {},
          "output_type": "execute_result"
        }
      ],
      "source": [
        "#確認長度對不對\n",
        "len(name_lst)"
      ]
    },
    {
      "cell_type": "code",
      "execution_count": null,
      "id": "90bcf3ea",
      "metadata": {
        "id": "90bcf3ea",
        "outputId": "503c7864-bfea-41b2-9612-271a037b56b8"
      },
      "outputs": [
        {
          "data": {
            "text/plain": [
              "array([[86.29736403, 79.83442042, 90.48928042],\n",
              "       [83.23583593, 70.54726534, 81.2990171 ],\n",
              "       [81.53134872, 67.66802494, 65.92630909],\n",
              "       [72.14608705, 80.32241501, 88.51204651],\n",
              "       [73.30073169, 69.33618441, 71.38571343],\n",
              "       [92.46179611, 66.30286424, 83.42094657],\n",
              "       [75.419683  , 69.22944616, 73.93936583],\n",
              "       [77.19636141, 77.24354325, 84.61544778],\n",
              "       [61.82260127, 76.84973992, 70.33091105],\n",
              "       [79.89000609, 78.68718762, 59.26604097]])"
            ]
          },
          "execution_count": 13,
          "metadata": {},
          "output_type": "execute_result"
        }
      ],
      "source": [
        "grades=normal(75,15,(10,3))\n",
        "grades"
      ]
    },
    {
      "cell_type": "code",
      "execution_count": null,
      "id": "66f2041c",
      "metadata": {
        "id": "66f2041c",
        "outputId": "fe925f16-9414-40e8-8ff4-37af2dbe7a95"
      },
      "outputs": [
        {
          "data": {
            "text/html": [
              "<div>\n",
              "<style scoped>\n",
              "    .dataframe tbody tr th:only-of-type {\n",
              "        vertical-align: middle;\n",
              "    }\n",
              "\n",
              "    .dataframe tbody tr th {\n",
              "        vertical-align: top;\n",
              "    }\n",
              "\n",
              "    .dataframe thead th {\n",
              "        text-align: right;\n",
              "    }\n",
              "</style>\n",
              "<table border=\"1\" class=\"dataframe\">\n",
              "  <thead>\n",
              "    <tr style=\"text-align: right;\">\n",
              "      <th></th>\n",
              "      <th>國文</th>\n",
              "      <th>英文</th>\n",
              "      <th>數學</th>\n",
              "    </tr>\n",
              "  </thead>\n",
              "  <tbody>\n",
              "    <tr>\n",
              "      <th>林佳貴</th>\n",
              "      <td>86.297364</td>\n",
              "      <td>79.834420</td>\n",
              "      <td>90.489280</td>\n",
              "    </tr>\n",
              "    <tr>\n",
              "      <th>林孟倫</th>\n",
              "      <td>83.235836</td>\n",
              "      <td>70.547265</td>\n",
              "      <td>81.299017</td>\n",
              "    </tr>\n",
              "    <tr>\n",
              "      <th>楊佳云</th>\n",
              "      <td>81.531349</td>\n",
              "      <td>67.668025</td>\n",
              "      <td>65.926309</td>\n",
              "    </tr>\n",
              "    <tr>\n",
              "      <th>李奎秀</th>\n",
              "      <td>72.146087</td>\n",
              "      <td>80.322415</td>\n",
              "      <td>88.512047</td>\n",
              "    </tr>\n",
              "    <tr>\n",
              "      <th>邱志瑋</th>\n",
              "      <td>73.300732</td>\n",
              "      <td>69.336184</td>\n",
              "      <td>71.385713</td>\n",
              "    </tr>\n",
              "  </tbody>\n",
              "</table>\n",
              "</div>"
            ],
            "text/plain": [
              "            國文         英文         數學\n",
              "林佳貴  86.297364  79.834420  90.489280\n",
              "林孟倫  83.235836  70.547265  81.299017\n",
              "楊佳云  81.531349  67.668025  65.926309\n",
              "李奎秀  72.146087  80.322415  88.512047\n",
              "邱志瑋  73.300732  69.336184  71.385713"
            ]
          },
          "execution_count": 15,
          "metadata": {},
          "output_type": "execute_result"
        }
      ],
      "source": [
        "df=pd.DataFrame(grades,index=name_lst,\n",
        "               columns=[\"國文\",\"英文\",\"數學\"])\n",
        "df.head()"
      ]
    },
    {
      "cell_type": "code",
      "execution_count": null,
      "id": "ec959ca2",
      "metadata": {
        "id": "ec959ca2",
        "outputId": "98e5daef-7359-4269-dde1-d059299c8282"
      },
      "outputs": [
        {
          "data": {
            "text/plain": [
              "78.33018153040152"
            ]
          },
          "execution_count": 16,
          "metadata": {},
          "output_type": "execute_result"
        }
      ],
      "source": [
        "df[\"國文\"].mean()"
      ]
    },
    {
      "cell_type": "code",
      "execution_count": null,
      "id": "22c4e10e",
      "metadata": {
        "id": "22c4e10e",
        "outputId": "cb66d2dc-b0ca-46c4-fddc-06fffc65b01e"
      },
      "outputs": [
        {
          "data": {
            "text/plain": [
              "78.33018153040152"
            ]
          },
          "execution_count": 17,
          "metadata": {},
          "output_type": "execute_result"
        }
      ],
      "source": [
        "df.國文.mean()  #python可以直接欄變成變數看待"
      ]
    },
    {
      "cell_type": "code",
      "execution_count": null,
      "id": "158152fc",
      "metadata": {
        "id": "158152fc",
        "outputId": "50f8d1fc-5f92-440b-a03d-2d6a625d4597"
      },
      "outputs": [
        {
          "data": {
            "text/html": [
              "<div>\n",
              "<style scoped>\n",
              "    .dataframe tbody tr th:only-of-type {\n",
              "        vertical-align: middle;\n",
              "    }\n",
              "\n",
              "    .dataframe tbody tr th {\n",
              "        vertical-align: top;\n",
              "    }\n",
              "\n",
              "    .dataframe thead th {\n",
              "        text-align: right;\n",
              "    }\n",
              "</style>\n",
              "<table border=\"1\" class=\"dataframe\">\n",
              "  <thead>\n",
              "    <tr style=\"text-align: right;\">\n",
              "      <th></th>\n",
              "      <th>國文</th>\n",
              "      <th>英文</th>\n",
              "      <th>數學</th>\n",
              "    </tr>\n",
              "  </thead>\n",
              "  <tbody>\n",
              "    <tr>\n",
              "      <th>count</th>\n",
              "      <td>10.000000</td>\n",
              "      <td>10.000000</td>\n",
              "      <td>10.000000</td>\n",
              "    </tr>\n",
              "    <tr>\n",
              "      <th>mean</th>\n",
              "      <td>78.330182</td>\n",
              "      <td>73.602109</td>\n",
              "      <td>76.918508</td>\n",
              "    </tr>\n",
              "    <tr>\n",
              "      <th>std</th>\n",
              "      <td>8.470338</td>\n",
              "      <td>5.465163</td>\n",
              "      <td>10.298927</td>\n",
              "    </tr>\n",
              "    <tr>\n",
              "      <th>min</th>\n",
              "      <td>61.822601</td>\n",
              "      <td>66.302864</td>\n",
              "      <td>59.266041</td>\n",
              "    </tr>\n",
              "    <tr>\n",
              "      <th>25%</th>\n",
              "      <td>73.830470</td>\n",
              "      <td>69.256131</td>\n",
              "      <td>70.594612</td>\n",
              "    </tr>\n",
              "    <tr>\n",
              "      <th>50%</th>\n",
              "      <td>78.543184</td>\n",
              "      <td>73.698503</td>\n",
              "      <td>77.619191</td>\n",
              "    </tr>\n",
              "    <tr>\n",
              "      <th>75%</th>\n",
              "      <td>82.809714</td>\n",
              "      <td>78.326277</td>\n",
              "      <td>84.316822</td>\n",
              "    </tr>\n",
              "    <tr>\n",
              "      <th>max</th>\n",
              "      <td>92.461796</td>\n",
              "      <td>80.322415</td>\n",
              "      <td>90.489280</td>\n",
              "    </tr>\n",
              "  </tbody>\n",
              "</table>\n",
              "</div>"
            ],
            "text/plain": [
              "              國文         英文         數學\n",
              "count  10.000000  10.000000  10.000000\n",
              "mean   78.330182  73.602109  76.918508\n",
              "std     8.470338   5.465163  10.298927\n",
              "min    61.822601  66.302864  59.266041\n",
              "25%    73.830470  69.256131  70.594612\n",
              "50%    78.543184  73.698503  77.619191\n",
              "75%    82.809714  78.326277  84.316822\n",
              "max    92.461796  80.322415  90.489280"
            ]
          },
          "execution_count": 18,
          "metadata": {},
          "output_type": "execute_result"
        }
      ],
      "source": [
        "df.describe()  #各種平均 標準差等資訊"
      ]
    },
    {
      "cell_type": "code",
      "execution_count": null,
      "id": "3ad70c7b",
      "metadata": {
        "id": "3ad70c7b",
        "outputId": "b1a4512e-68a3-4226-f7ed-f8d9190fbce5"
      },
      "outputs": [
        {
          "data": {
            "text/html": [
              "<div>\n",
              "<style scoped>\n",
              "    .dataframe tbody tr th:only-of-type {\n",
              "        vertical-align: middle;\n",
              "    }\n",
              "\n",
              "    .dataframe tbody tr th {\n",
              "        vertical-align: top;\n",
              "    }\n",
              "\n",
              "    .dataframe thead th {\n",
              "        text-align: right;\n",
              "    }\n",
              "</style>\n",
              "<table border=\"1\" class=\"dataframe\">\n",
              "  <thead>\n",
              "    <tr style=\"text-align: right;\">\n",
              "      <th></th>\n",
              "      <th>國文</th>\n",
              "      <th>英文</th>\n",
              "    </tr>\n",
              "  </thead>\n",
              "  <tbody>\n",
              "    <tr>\n",
              "      <th>林佳貴</th>\n",
              "      <td>86.297364</td>\n",
              "      <td>79.834420</td>\n",
              "    </tr>\n",
              "    <tr>\n",
              "      <th>林孟倫</th>\n",
              "      <td>83.235836</td>\n",
              "      <td>70.547265</td>\n",
              "    </tr>\n",
              "    <tr>\n",
              "      <th>楊佳云</th>\n",
              "      <td>81.531349</td>\n",
              "      <td>67.668025</td>\n",
              "    </tr>\n",
              "    <tr>\n",
              "      <th>李奎秀</th>\n",
              "      <td>72.146087</td>\n",
              "      <td>80.322415</td>\n",
              "    </tr>\n",
              "    <tr>\n",
              "      <th>邱志瑋</th>\n",
              "      <td>73.300732</td>\n",
              "      <td>69.336184</td>\n",
              "    </tr>\n",
              "  </tbody>\n",
              "</table>\n",
              "</div>"
            ],
            "text/plain": [
              "            國文         英文\n",
              "林佳貴  86.297364  79.834420\n",
              "林孟倫  83.235836  70.547265\n",
              "楊佳云  81.531349  67.668025\n",
              "李奎秀  72.146087  80.322415\n",
              "邱志瑋  73.300732  69.336184"
            ]
          },
          "execution_count": 20,
          "metadata": {},
          "output_type": "execute_result"
        }
      ],
      "source": [
        "df2=df[[\"國文\",\"英文\"]] #指定欄位\n",
        "df2.head()"
      ]
    },
    {
      "cell_type": "code",
      "execution_count": null,
      "id": "1e4e0e74",
      "metadata": {
        "id": "1e4e0e74",
        "outputId": "b1f15a9e-7db1-4e37-eefa-ffb91fe467cf"
      },
      "outputs": [
        {
          "data": {
            "text/html": [
              "<div>\n",
              "<style scoped>\n",
              "    .dataframe tbody tr th:only-of-type {\n",
              "        vertical-align: middle;\n",
              "    }\n",
              "\n",
              "    .dataframe tbody tr th {\n",
              "        vertical-align: top;\n",
              "    }\n",
              "\n",
              "    .dataframe thead th {\n",
              "        text-align: right;\n",
              "    }\n",
              "</style>\n",
              "<table border=\"1\" class=\"dataframe\">\n",
              "  <thead>\n",
              "    <tr style=\"text-align: right;\">\n",
              "      <th></th>\n",
              "      <th>國文</th>\n",
              "      <th>英文</th>\n",
              "      <th>數學</th>\n",
              "      <th>組別</th>\n",
              "    </tr>\n",
              "  </thead>\n",
              "  <tbody>\n",
              "    <tr>\n",
              "      <th>林佳貴</th>\n",
              "      <td>86.297364</td>\n",
              "      <td>79.834420</td>\n",
              "      <td>90.489280</td>\n",
              "      <td>1</td>\n",
              "    </tr>\n",
              "    <tr>\n",
              "      <th>林孟倫</th>\n",
              "      <td>83.235836</td>\n",
              "      <td>70.547265</td>\n",
              "      <td>81.299017</td>\n",
              "      <td>1</td>\n",
              "    </tr>\n",
              "    <tr>\n",
              "      <th>楊佳云</th>\n",
              "      <td>81.531349</td>\n",
              "      <td>67.668025</td>\n",
              "      <td>65.926309</td>\n",
              "      <td>1</td>\n",
              "    </tr>\n",
              "    <tr>\n",
              "      <th>李奎秀</th>\n",
              "      <td>72.146087</td>\n",
              "      <td>80.322415</td>\n",
              "      <td>88.512047</td>\n",
              "      <td>2</td>\n",
              "    </tr>\n",
              "    <tr>\n",
              "      <th>邱志瑋</th>\n",
              "      <td>73.300732</td>\n",
              "      <td>69.336184</td>\n",
              "      <td>71.385713</td>\n",
              "      <td>2</td>\n",
              "    </tr>\n",
              "    <tr>\n",
              "      <th>童上雄</th>\n",
              "      <td>92.461796</td>\n",
              "      <td>66.302864</td>\n",
              "      <td>83.420947</td>\n",
              "      <td>2</td>\n",
              "    </tr>\n",
              "    <tr>\n",
              "      <th>葉怡君</th>\n",
              "      <td>75.419683</td>\n",
              "      <td>69.229446</td>\n",
              "      <td>73.939366</td>\n",
              "      <td>3</td>\n",
              "    </tr>\n",
              "    <tr>\n",
              "      <th>賴佳琳</th>\n",
              "      <td>77.196361</td>\n",
              "      <td>77.243543</td>\n",
              "      <td>84.615448</td>\n",
              "      <td>3</td>\n",
              "    </tr>\n",
              "    <tr>\n",
              "      <th>蔡允宣</th>\n",
              "      <td>61.822601</td>\n",
              "      <td>76.849740</td>\n",
              "      <td>70.330911</td>\n",
              "      <td>3</td>\n",
              "    </tr>\n",
              "    <tr>\n",
              "      <th>王法漢</th>\n",
              "      <td>79.890006</td>\n",
              "      <td>78.687188</td>\n",
              "      <td>59.266041</td>\n",
              "      <td>3</td>\n",
              "    </tr>\n",
              "  </tbody>\n",
              "</table>\n",
              "</div>"
            ],
            "text/plain": [
              "            國文         英文         數學  組別\n",
              "林佳貴  86.297364  79.834420  90.489280   1\n",
              "林孟倫  83.235836  70.547265  81.299017   1\n",
              "楊佳云  81.531349  67.668025  65.926309   1\n",
              "李奎秀  72.146087  80.322415  88.512047   2\n",
              "邱志瑋  73.300732  69.336184  71.385713   2\n",
              "童上雄  92.461796  66.302864  83.420947   2\n",
              "葉怡君  75.419683  69.229446  73.939366   3\n",
              "賴佳琳  77.196361  77.243543  84.615448   3\n",
              "蔡允宣  61.822601  76.849740  70.330911   3\n",
              "王法漢  79.890006  78.687188  59.266041   3"
            ]
          },
          "execution_count": 22,
          "metadata": {},
          "output_type": "execute_result"
        }
      ],
      "source": [
        "df[\"組別\"]=[1,1,1,2,2,2,3,3,3,3] #直接新增欄位\n",
        "df\n"
      ]
    },
    {
      "cell_type": "code",
      "execution_count": null,
      "id": "e7874fce",
      "metadata": {
        "id": "e7874fce",
        "outputId": "b6d82a71-1461-4be5-b420-02ec02e89732"
      },
      "outputs": [
        {
          "data": {
            "text/html": [
              "<div>\n",
              "<style scoped>\n",
              "    .dataframe tbody tr th:only-of-type {\n",
              "        vertical-align: middle;\n",
              "    }\n",
              "\n",
              "    .dataframe tbody tr th {\n",
              "        vertical-align: top;\n",
              "    }\n",
              "\n",
              "    .dataframe thead th {\n",
              "        text-align: right;\n",
              "    }\n",
              "</style>\n",
              "<table border=\"1\" class=\"dataframe\">\n",
              "  <thead>\n",
              "    <tr style=\"text-align: right;\">\n",
              "      <th></th>\n",
              "      <th>國文</th>\n",
              "      <th>英文</th>\n",
              "      <th>數學</th>\n",
              "      <th>組別</th>\n",
              "      <th>加權分數</th>\n",
              "    </tr>\n",
              "  </thead>\n",
              "  <tbody>\n",
              "    <tr>\n",
              "      <th>林佳貴</th>\n",
              "      <td>86.297364</td>\n",
              "      <td>79.834420</td>\n",
              "      <td>90.489280</td>\n",
              "      <td>1</td>\n",
              "      <td>86.777586</td>\n",
              "    </tr>\n",
              "    <tr>\n",
              "      <th>林孟倫</th>\n",
              "      <td>83.235836</td>\n",
              "      <td>70.547265</td>\n",
              "      <td>81.299017</td>\n",
              "      <td>1</td>\n",
              "      <td>79.095284</td>\n",
              "    </tr>\n",
              "    <tr>\n",
              "      <th>楊佳云</th>\n",
              "      <td>81.531349</td>\n",
              "      <td>67.668025</td>\n",
              "      <td>65.926309</td>\n",
              "      <td>1</td>\n",
              "      <td>70.262998</td>\n",
              "    </tr>\n",
              "    <tr>\n",
              "      <th>李奎秀</th>\n",
              "      <td>72.146087</td>\n",
              "      <td>80.322415</td>\n",
              "      <td>88.512047</td>\n",
              "      <td>2</td>\n",
              "      <td>82.373149</td>\n",
              "    </tr>\n",
              "    <tr>\n",
              "      <th>邱志瑋</th>\n",
              "      <td>73.300732</td>\n",
              "      <td>69.336184</td>\n",
              "      <td>71.385713</td>\n",
              "      <td>2</td>\n",
              "      <td>71.352086</td>\n",
              "    </tr>\n",
              "    <tr>\n",
              "      <th>童上雄</th>\n",
              "      <td>92.461796</td>\n",
              "      <td>66.302864</td>\n",
              "      <td>83.420947</td>\n",
              "      <td>2</td>\n",
              "      <td>81.401638</td>\n",
              "    </tr>\n",
              "    <tr>\n",
              "      <th>葉怡君</th>\n",
              "      <td>75.419683</td>\n",
              "      <td>69.229446</td>\n",
              "      <td>73.939366</td>\n",
              "      <td>3</td>\n",
              "      <td>73.131965</td>\n",
              "    </tr>\n",
              "    <tr>\n",
              "      <th>賴佳琳</th>\n",
              "      <td>77.196361</td>\n",
              "      <td>77.243543</td>\n",
              "      <td>84.615448</td>\n",
              "      <td>3</td>\n",
              "      <td>80.917700</td>\n",
              "    </tr>\n",
              "    <tr>\n",
              "      <th>蔡允宣</th>\n",
              "      <td>61.822601</td>\n",
              "      <td>76.849740</td>\n",
              "      <td>70.330911</td>\n",
              "      <td>3</td>\n",
              "      <td>69.833541</td>\n",
              "    </tr>\n",
              "    <tr>\n",
              "      <th>王法漢</th>\n",
              "      <td>79.890006</td>\n",
              "      <td>78.687188</td>\n",
              "      <td>59.266041</td>\n",
              "      <td>3</td>\n",
              "      <td>69.277319</td>\n",
              "    </tr>\n",
              "  </tbody>\n",
              "</table>\n",
              "</div>"
            ],
            "text/plain": [
              "            國文         英文         數學  組別       加權分數\n",
              "林佳貴  86.297364  79.834420  90.489280   1  86.777586\n",
              "林孟倫  83.235836  70.547265  81.299017   1  79.095284\n",
              "楊佳云  81.531349  67.668025  65.926309   1  70.262998\n",
              "李奎秀  72.146087  80.322415  88.512047   2  82.373149\n",
              "邱志瑋  73.300732  69.336184  71.385713   2  71.352086\n",
              "童上雄  92.461796  66.302864  83.420947   2  81.401638\n",
              "葉怡君  75.419683  69.229446  73.939366   3  73.131965\n",
              "賴佳琳  77.196361  77.243543  84.615448   3  80.917700\n",
              "蔡允宣  61.822601  76.849740  70.330911   3  69.833541\n",
              "王法漢  79.890006  78.687188  59.266041   3  69.277319"
            ]
          },
          "execution_count": 23,
          "metadata": {},
          "output_type": "execute_result"
        }
      ],
      "source": [
        "df[\"加權分數\"]=df.數學*0.5+df.英文*0.25+df.國文*0.25\n",
        "df"
      ]
    },
    {
      "cell_type": "code",
      "execution_count": null,
      "id": "57fbfd4b",
      "metadata": {
        "id": "57fbfd4b",
        "outputId": "8d33fa05-47e7-4927-8dca-7be33f4fbbd6"
      },
      "outputs": [
        {
          "data": {
            "text/html": [
              "<div>\n",
              "<style scoped>\n",
              "    .dataframe tbody tr th:only-of-type {\n",
              "        vertical-align: middle;\n",
              "    }\n",
              "\n",
              "    .dataframe tbody tr th {\n",
              "        vertical-align: top;\n",
              "    }\n",
              "\n",
              "    .dataframe thead th {\n",
              "        text-align: right;\n",
              "    }\n",
              "</style>\n",
              "<table border=\"1\" class=\"dataframe\">\n",
              "  <thead>\n",
              "    <tr style=\"text-align: right;\">\n",
              "      <th></th>\n",
              "      <th>國文</th>\n",
              "      <th>英文</th>\n",
              "      <th>數學</th>\n",
              "      <th>加權分數</th>\n",
              "    </tr>\n",
              "    <tr>\n",
              "      <th>組別</th>\n",
              "      <th></th>\n",
              "      <th></th>\n",
              "      <th></th>\n",
              "      <th></th>\n",
              "    </tr>\n",
              "  </thead>\n",
              "  <tbody>\n",
              "    <tr>\n",
              "      <th>1</th>\n",
              "      <td>83.688183</td>\n",
              "      <td>72.683237</td>\n",
              "      <td>79.238202</td>\n",
              "      <td>78.711956</td>\n",
              "    </tr>\n",
              "    <tr>\n",
              "      <th>2</th>\n",
              "      <td>79.302872</td>\n",
              "      <td>71.987155</td>\n",
              "      <td>81.106236</td>\n",
              "      <td>78.375624</td>\n",
              "    </tr>\n",
              "    <tr>\n",
              "      <th>3</th>\n",
              "      <td>73.582163</td>\n",
              "      <td>75.502479</td>\n",
              "      <td>72.037941</td>\n",
              "      <td>73.290131</td>\n",
              "    </tr>\n",
              "  </tbody>\n",
              "</table>\n",
              "</div>"
            ],
            "text/plain": [
              "           國文         英文         數學       加權分數\n",
              "組別                                            \n",
              "1   83.688183  72.683237  79.238202  78.711956\n",
              "2   79.302872  71.987155  81.106236  78.375624\n",
              "3   73.582163  75.502479  72.037941  73.290131"
            ]
          },
          "execution_count": 24,
          "metadata": {},
          "output_type": "execute_result"
        }
      ],
      "source": [
        "#Group By用組別收集,用於後續計算 mean等,而不是建新的dataframe\n",
        "gpy=df.groupby(\"組別\")\n",
        "gpy.mean()"
      ]
    },
    {
      "cell_type": "code",
      "execution_count": null,
      "id": "aaf6d9e0",
      "metadata": {
        "id": "aaf6d9e0"
      },
      "outputs": [],
      "source": [
        ""
      ]
    }
  ],
  "metadata": {
    "kernelspec": {
      "display_name": "Python 3 (ipykernel)",
      "language": "python",
      "name": "python3"
    },
    "language_info": {
      "codemirror_mode": {
        "name": "ipython",
        "version": 3
      },
      "file_extension": ".py",
      "mimetype": "text/x-python",
      "name": "python",
      "nbconvert_exporter": "python",
      "pygments_lexer": "ipython3",
      "version": "3.9.7"
    },
    "colab": {
      "name": "Transcript.ipynb",
      "provenance": [],
      "include_colab_link": true
    }
  },
  "nbformat": 4,
  "nbformat_minor": 5
}