{
  "nbformat": 4,
  "nbformat_minor": 0,
  "metadata": {
    "colab": {
      "name": "20220314練習手寫辨識DNN.ipynb",
      "provenance": [],
      "collapsed_sections": [],
      "authorship_tag": "ABX9TyNf44KXVqubS9YO3cB89S5x",
      "include_colab_link": true
    },
    "kernelspec": {
      "name": "python3",
      "display_name": "Python 3"
    },
    "language_info": {
      "name": "python"
    },
    "accelerator": "GPU",
    "widgets": {
      "application/vnd.jupyter.widget-state+json": {
        "80bb05aa35c640a28d509c5d1667fe36": {
          "model_module": "@jupyter-widgets/controls",
          "model_name": "VBoxModel",
          "model_module_version": "1.5.0",
          "state": {
            "_dom_classes": [
              "widget-interact"
            ],
            "_model_module": "@jupyter-widgets/controls",
            "_model_module_version": "1.5.0",
            "_model_name": "VBoxModel",
            "_view_count": null,
            "_view_module": "@jupyter-widgets/controls",
            "_view_module_version": "1.5.0",
            "_view_name": "VBoxView",
            "box_style": "",
            "children": [
              "IPY_MODEL_e805af7dc02e40418e9be1d11b835dbe",
              "IPY_MODEL_6249fc69b5bb4b6aafc88490828e5d4f",
              "IPY_MODEL_3c80755ae16c498bb365a9e4bcffb6ae"
            ],
            "layout": "IPY_MODEL_0a63287dd7e143fbabdc633da1660d40"
          }
        },
        "e805af7dc02e40418e9be1d11b835dbe": {
          "model_module": "@jupyter-widgets/controls",
          "model_name": "IntSliderModel",
          "model_module_version": "1.5.0",
          "state": {
            "_dom_classes": [],
            "_model_module": "@jupyter-widgets/controls",
            "_model_module_version": "1.5.0",
            "_model_name": "IntSliderModel",
            "_view_count": null,
            "_view_module": "@jupyter-widgets/controls",
            "_view_module_version": "1.5.0",
            "_view_name": "IntSliderView",
            "continuous_update": true,
            "description": "測試編號",
            "description_tooltip": null,
            "disabled": false,
            "layout": "IPY_MODEL_8851298a2ef04fdbbf2007a6f838dffd",
            "max": 9999,
            "min": 0,
            "orientation": "horizontal",
            "readout": true,
            "readout_format": "d",
            "step": 1,
            "style": "IPY_MODEL_79fd88ac975c4b7295159504a76dabff",
            "value": 4999
          }
        },
        "6249fc69b5bb4b6aafc88490828e5d4f": {
          "model_module": "@jupyter-widgets/controls",
          "model_name": "ButtonModel",
          "model_module_version": "1.5.0",
          "state": {
            "_dom_classes": [],
            "_model_module": "@jupyter-widgets/controls",
            "_model_module_version": "1.5.0",
            "_model_name": "ButtonModel",
            "_view_count": null,
            "_view_module": "@jupyter-widgets/controls",
            "_view_module_version": "1.5.0",
            "_view_name": "ButtonView",
            "button_style": "",
            "description": "Run Interact",
            "disabled": false,
            "icon": "",
            "layout": "IPY_MODEL_faf604b792324c3a927ea66916790135",
            "style": "IPY_MODEL_6ed6d59450e54950af5b89b98c9d40ab",
            "tooltip": ""
          }
        },
        "3c80755ae16c498bb365a9e4bcffb6ae": {
          "model_module": "@jupyter-widgets/output",
          "model_name": "OutputModel",
          "model_module_version": "1.0.0",
          "state": {
            "_dom_classes": [],
            "_model_module": "@jupyter-widgets/output",
            "_model_module_version": "1.0.0",
            "_model_name": "OutputModel",
            "_view_count": null,
            "_view_module": "@jupyter-widgets/output",
            "_view_module_version": "1.0.0",
            "_view_name": "OutputView",
            "layout": "IPY_MODEL_1e39d4b634824c1bbf979b67ad74fcd1",
            "msg_id": "",
            "outputs": []
          }
        },
        "0a63287dd7e143fbabdc633da1660d40": {
          "model_module": "@jupyter-widgets/base",
          "model_name": "LayoutModel",
          "model_module_version": "1.2.0",
          "state": {
            "_model_module": "@jupyter-widgets/base",
            "_model_module_version": "1.2.0",
            "_model_name": "LayoutModel",
            "_view_count": null,
            "_view_module": "@jupyter-widgets/base",
            "_view_module_version": "1.2.0",
            "_view_name": "LayoutView",
            "align_content": null,
            "align_items": null,
            "align_self": null,
            "border": null,
            "bottom": null,
            "display": null,
            "flex": null,
            "flex_flow": null,
            "grid_area": null,
            "grid_auto_columns": null,
            "grid_auto_flow": null,
            "grid_auto_rows": null,
            "grid_column": null,
            "grid_gap": null,
            "grid_row": null,
            "grid_template_areas": null,
            "grid_template_columns": null,
            "grid_template_rows": null,
            "height": null,
            "justify_content": null,
            "justify_items": null,
            "left": null,
            "margin": null,
            "max_height": null,
            "max_width": null,
            "min_height": null,
            "min_width": null,
            "object_fit": null,
            "object_position": null,
            "order": null,
            "overflow": null,
            "overflow_x": null,
            "overflow_y": null,
            "padding": null,
            "right": null,
            "top": null,
            "visibility": null,
            "width": null
          }
        },
        "8851298a2ef04fdbbf2007a6f838dffd": {
          "model_module": "@jupyter-widgets/base",
          "model_name": "LayoutModel",
          "model_module_version": "1.2.0",
          "state": {
            "_model_module": "@jupyter-widgets/base",
            "_model_module_version": "1.2.0",
            "_model_name": "LayoutModel",
            "_view_count": null,
            "_view_module": "@jupyter-widgets/base",
            "_view_module_version": "1.2.0",
            "_view_name": "LayoutView",
            "align_content": null,
            "align_items": null,
            "align_self": null,
            "border": null,
            "bottom": null,
            "display": null,
            "flex": null,
            "flex_flow": null,
            "grid_area": null,
            "grid_auto_columns": null,
            "grid_auto_flow": null,
            "grid_auto_rows": null,
            "grid_column": null,
            "grid_gap": null,
            "grid_row": null,
            "grid_template_areas": null,
            "grid_template_columns": null,
            "grid_template_rows": null,
            "height": null,
            "justify_content": null,
            "justify_items": null,
            "left": null,
            "margin": null,
            "max_height": null,
            "max_width": null,
            "min_height": null,
            "min_width": null,
            "object_fit": null,
            "object_position": null,
            "order": null,
            "overflow": null,
            "overflow_x": null,
            "overflow_y": null,
            "padding": null,
            "right": null,
            "top": null,
            "visibility": null,
            "width": null
          }
        },
        "79fd88ac975c4b7295159504a76dabff": {
          "model_module": "@jupyter-widgets/controls",
          "model_name": "SliderStyleModel",
          "model_module_version": "1.5.0",
          "state": {
            "_model_module": "@jupyter-widgets/controls",
            "_model_module_version": "1.5.0",
            "_model_name": "SliderStyleModel",
            "_view_count": null,
            "_view_module": "@jupyter-widgets/base",
            "_view_module_version": "1.2.0",
            "_view_name": "StyleView",
            "description_width": "",
            "handle_color": null
          }
        },
        "faf604b792324c3a927ea66916790135": {
          "model_module": "@jupyter-widgets/base",
          "model_name": "LayoutModel",
          "model_module_version": "1.2.0",
          "state": {
            "_model_module": "@jupyter-widgets/base",
            "_model_module_version": "1.2.0",
            "_model_name": "LayoutModel",
            "_view_count": null,
            "_view_module": "@jupyter-widgets/base",
            "_view_module_version": "1.2.0",
            "_view_name": "LayoutView",
            "align_content": null,
            "align_items": null,
            "align_self": null,
            "border": null,
            "bottom": null,
            "display": null,
            "flex": null,
            "flex_flow": null,
            "grid_area": null,
            "grid_auto_columns": null,
            "grid_auto_flow": null,
            "grid_auto_rows": null,
            "grid_column": null,
            "grid_gap": null,
            "grid_row": null,
            "grid_template_areas": null,
            "grid_template_columns": null,
            "grid_template_rows": null,
            "height": null,
            "justify_content": null,
            "justify_items": null,
            "left": null,
            "margin": null,
            "max_height": null,
            "max_width": null,
            "min_height": null,
            "min_width": null,
            "object_fit": null,
            "object_position": null,
            "order": null,
            "overflow": null,
            "overflow_x": null,
            "overflow_y": null,
            "padding": null,
            "right": null,
            "top": null,
            "visibility": null,
            "width": null
          }
        },
        "6ed6d59450e54950af5b89b98c9d40ab": {
          "model_module": "@jupyter-widgets/controls",
          "model_name": "ButtonStyleModel",
          "model_module_version": "1.5.0",
          "state": {
            "_model_module": "@jupyter-widgets/controls",
            "_model_module_version": "1.5.0",
            "_model_name": "ButtonStyleModel",
            "_view_count": null,
            "_view_module": "@jupyter-widgets/base",
            "_view_module_version": "1.2.0",
            "_view_name": "StyleView",
            "button_color": null,
            "font_weight": ""
          }
        },
        "1e39d4b634824c1bbf979b67ad74fcd1": {
          "model_module": "@jupyter-widgets/base",
          "model_name": "LayoutModel",
          "model_module_version": "1.2.0",
          "state": {
            "_model_module": "@jupyter-widgets/base",
            "_model_module_version": "1.2.0",
            "_model_name": "LayoutModel",
            "_view_count": null,
            "_view_module": "@jupyter-widgets/base",
            "_view_module_version": "1.2.0",
            "_view_name": "LayoutView",
            "align_content": null,
            "align_items": null,
            "align_self": null,
            "border": null,
            "bottom": null,
            "display": null,
            "flex": null,
            "flex_flow": null,
            "grid_area": null,
            "grid_auto_columns": null,
            "grid_auto_flow": null,
            "grid_auto_rows": null,
            "grid_column": null,
            "grid_gap": null,
            "grid_row": null,
            "grid_template_areas": null,
            "grid_template_columns": null,
            "grid_template_rows": null,
            "height": null,
            "justify_content": null,
            "justify_items": null,
            "left": null,
            "margin": null,
            "max_height": null,
            "max_width": null,
            "min_height": null,
            "min_width": null,
            "object_fit": null,
            "object_position": null,
            "order": null,
            "overflow": null,
            "overflow_x": null,
            "overflow_y": null,
            "padding": null,
            "right": null,
            "top": null,
            "visibility": null,
            "width": null
          }
        }
      }
    }
  },
  "cells": [
    {
      "cell_type": "markdown",
      "metadata": {
        "id": "view-in-github",
        "colab_type": "text"
      },
      "source": [
        "<a href=\"https://colab.research.google.com/github/sglhsr/Machine_Learing/blob/main/20220314%E7%B7%B4%E7%BF%92%E6%89%8B%E5%AF%AB%E8%BE%A8%E8%AD%98DNN.ipynb\" target=\"_parent\"><img src=\"https://colab.research.google.com/assets/colab-badge.svg\" alt=\"Open In Colab\"/></a>"
      ]
    },
    {
      "cell_type": "code",
      "execution_count": null,
      "metadata": {
        "id": "HFFBA9MMSslz"
      },
      "outputs": [],
      "source": [
        "%matplotlib inline\n",
        "\n",
        "import numpy as np\n",
        "import matplotlib.pyplot as plt\n",
        "import pandas as pd"
      ]
    },
    {
      "cell_type": "code",
      "source": [
        "#utils for onehot-encoding,  to_categorical: 把它變成onehot-encoding\n",
        "#把結果變成唯一的矩陣\n",
        "from tensorflow.keras.utils import to_categorical\n",
        "#Sequential 打開函數學習機的指令, 在models裡\n",
        "from tensorflow.keras.models import Sequential\n",
        "#Dense打造隱藏層 DNN全連結的神經網路(神經最密的)\n",
        "#會要求讀入最佳的學習法Gradient descent 優化器\n",
        "from tensorflow.keras.layers import Dense\n",
        "#學習率（Learning Rate)掌握模型的學習進度，如何調整學習率是訓練出好模型的關鍵要素\n",
        "#Learning Rate太小 波度下降會很慢,太大又可能一直繞錯方向\n",
        "#計算Momentum動量的變化\n",
        "#有SGD或Adam  就是一種Gradient descent\n",
        "from tensorflow.keras.optimizers import SGD"
      ],
      "metadata": {
        "id": "NZi8KeLTVJG_"
      },
      "execution_count": null,
      "outputs": []
    },
    {
      "cell_type": "code",
      "source": [
        "#讀入MNSIT 手寫數字數據集\n",
        "from tensorflow.keras.datasets import mnist\n",
        "(x_train,y_train),(x_test,y_test)=mnist.load_data()\n",
        "#也可以讀fansion版的mnist\n",
        "#改成服裝的數據集\n",
        "# from tensorflow.keras.datasets import fashion_mnist\n",
        "# (x_train,y_train),(x_test,y_test)=fashion_mnist.load_data()"
      ],
      "metadata": {
        "id": "1s7o5Fg22MHM",
        "colab": {
          "base_uri": "https://localhost:8080/"
        },
        "outputId": "f648fad4-7d4f-480f-d7b1-3f3658950d16"
      },
      "execution_count": null,
      "outputs": [
        {
          "output_type": "stream",
          "name": "stdout",
          "text": [
            "Downloading data from https://storage.googleapis.com/tensorflow/tf-keras-datasets/mnist.npz\n",
            "11493376/11490434 [==============================] - 0s 0us/step\n",
            "11501568/11490434 [==============================] - 0s 0us/step\n"
          ]
        }
      ]
    },
    {
      "cell_type": "code",
      "source": [
        "len(x_train)  #預設60000筆訓練資料\n",
        "len(x_test)   #預設10000筆測試資料"
      ],
      "metadata": {
        "colab": {
          "base_uri": "https://localhost:8080/"
        },
        "id": "trCKh_i6AySb",
        "outputId": "dec57734-32b4-422a-8290-bbb99b058737"
      },
      "execution_count": null,
      "outputs": [
        {
          "output_type": "execute_result",
          "data": {
            "text/plain": [
              "10000"
            ]
          },
          "metadata": {},
          "execution_count": 4
        }
      ]
    },
    {
      "cell_type": "code",
      "source": [
        "n=8246\n",
        "x_train[n].shape\n",
        "# x_train[n]  #手寫數字圖 每筆是28*28的矩陣\n",
        "x_train.shape  #全部合起來就是(60000,28,28)\n",
        "y_train[n] #結果"
      ],
      "metadata": {
        "colab": {
          "base_uri": "https://localhost:8080/"
        },
        "id": "4qCgOlj-A2-F",
        "outputId": "9aff431b-02b3-46e2-e9db-af3fc6d5ff8b"
      },
      "execution_count": null,
      "outputs": [
        {
          "output_type": "execute_result",
          "data": {
            "text/plain": [
              "3"
            ]
          },
          "metadata": {},
          "execution_count": 5
        }
      ]
    },
    {
      "cell_type": "code",
      "source": [
        "# import matplotlib.pyplot as plt\n",
        "#cmap顏色主題\n",
        "plt.imshow(x_train[n],cmap='Greys')\n"
      ],
      "metadata": {
        "colab": {
          "base_uri": "https://localhost:8080/",
          "height": 283
        },
        "id": "Wh0ucLOKCUq4",
        "outputId": "bf0b836b-ecfc-4b5e-afa3-fe336d613214"
      },
      "execution_count": null,
      "outputs": [
        {
          "output_type": "execute_result",
          "data": {
            "text/plain": [
              "<matplotlib.image.AxesImage at 0x7ff9e7458410>"
            ]
          },
          "metadata": {},
          "execution_count": 6
        },
        {
          "output_type": "display_data",
          "data": {
            "text/plain": [
              "<Figure size 432x288 with 1 Axes>"
            ],
            "image/png": "[encoded data removed]"
          },
          "metadata": {
            "needs_background": "light"
          }
        }
      ]
    },
    {
      "cell_type": "code",
      "source": [
        "#資料整理\n",
        "#轉成60000個784維的陣列 每個值除255轉成0/1\n",
        "x_train=x_train.reshape(60000,784)/255\n",
        "x_test=x_test.reshape(10000,784)/255\n",
        "print(\"Print\",y_train[n])\n",
        "#每個結果轉成[0., 0., 0., 0., 0., 0., 0., 0., 0., 1.]\n",
        "#onehot-encoding\n",
        "y_train=to_categorical(y_train,10)\n",
        "y_test=to_categorical(y_test,10)\n",
        "#y_train轉成(50000,10)\n",
        "# y_train.shape\n",
        "y_train[n]\n"
      ],
      "metadata": {
        "colab": {
          "base_uri": "https://localhost:8080/"
        },
        "id": "_lBRvfPsDKAG",
        "outputId": "6dcb891a-6995-457f-b1f9-6b21fcfe1257"
      },
      "execution_count": null,
      "outputs": [
        {
          "output_type": "stream",
          "name": "stdout",
          "text": [
            "Print 3\n"
          ]
        },
        {
          "output_type": "execute_result",
          "data": {
            "text/plain": [
              "array([0., 0., 0., 1., 0., 0., 0., 0., 0., 0.], dtype=float32)"
            ]
          },
          "metadata": {},
          "execution_count": 7
        }
      ]
    },
    {
      "cell_type": "markdown",
      "source": [
        "4. step 1: 打造神經網路(函數學習機)"
      ],
      "metadata": {
        "id": "o94CqAvCJRSX"
      }
    },
    {
      "cell_type": "code",
      "source": [
        "#決定要幾層隱藏層,每層幾個神經元\n",
        "#Sequential打造神經網路\n",
        "model=Sequential()\n",
        "#假設用3層隱藏層 20個神經元, 20,20,20 的隱藏層\n",
        "#20個神經元,第一層不知道前面input的shape (784個像素),要input_dim幾個\n",
        "#激勵函數,把線性掰彎\n",
        "model.add(Dense(20,input_dim=784 ,activation='relu'))\n",
        "#第二,三層\n",
        "model.add(Dense(20,activation='relu'))\n",
        "model.add(Dense(20,activation='relu'))\n",
        "#output 10個的矩陣, softmax:全部output加起來=1\n",
        "#e.x. 0123456789[0., 0., 0., 0., 0., 0., 0., 0., 0., 1.]\n",
        "model.add(Dense(10,activation='softmax'))\n"
      ],
      "metadata": {
        "id": "7mM1nYRt_mEY"
      },
      "execution_count": null,
      "outputs": []
    },
    {
      "cell_type": "markdown",
      "source": [
        "組裝神經網路"
      ],
      "metadata": {
        "id": "XQrYpttQS90C"
      }
    },
    {
      "cell_type": "code",
      "source": [
        "#選擇loss來計算誤差,mse:最標準的平均平方差,\n",
        "#Optimizer選擇SGD,Learning_rate亂選,越小要訓練次數越多\n",
        "#meterics:訓練中會show出正確率多少\n",
        "model.compile(loss='mse',optimizer=SGD(learning_rate=0.087),metrics=['accuracy'])"
      ],
      "metadata": {
        "id": "-NMBDLtjEU2T"
      },
      "execution_count": null,
      "outputs": []
    },
    {
      "cell_type": "markdown",
      "source": [
        "觀看結果"
      ],
      "metadata": {
        "id": "CM28FwNfVDFd"
      }
    },
    {
      "cell_type": "code",
      "source": [
        "#看神經網路架構, 三個隱藏層 最後一個是輸出層\n",
        "#隱藏層已知輸入層的數量,所以不需show\n",
        "#Output_Shape: 一批一批batch送進去訓練\n",
        "#e.x 50 看完50筆後要調參數檢討,\n",
        "#Batch None:表示Batch幾筆資料都可以, 有彈性,不指定\n",
        "#第一層要算784*20+20(Bias偏值)=15700個參數 美個神經元有自的偏值\n",
        "#第二三層:20*20+20=420 輸出層:20*10+10=210\n",
        "#total 15700+420+420+210=16750個參數\n",
        "model.summary()"
      ],
      "metadata": {
        "colab": {
          "base_uri": "https://localhost:8080/"
        },
        "id": "LZL4l-YSUske",
        "outputId": "ad86d777-7109-4246-9fd5-0364b7fadd8d"
      },
      "execution_count": null,
      "outputs": [
        {
          "output_type": "stream",
          "name": "stdout",
          "text": [
            "Model: \"sequential\"\n",
            "_________________________________________________________________\n",
            " Layer (type)                Output Shape              Param #   \n",
            "=================================================================\n",
            " dense (Dense)               (None, 20)                15700     \n",
            "                                                                 \n",
            " dense_1 (Dense)             (None, 20)                420       \n",
            "                                                                 \n",
            " dense_2 (Dense)             (None, 20)                420       \n",
            "                                                                 \n",
            " dense_3 (Dense)             (None, 10)                210       \n",
            "                                                                 \n",
            "=================================================================\n",
            "Total params: 16,750\n",
            "Trainable params: 16,750\n",
            "Non-trainable params: 0\n",
            "_________________________________________________________________\n"
          ]
        }
      ]
    },
    {
      "cell_type": "markdown",
      "source": [
        "5. step2:訓練"
      ],
      "metadata": {
        "id": "PMht-l-Yhfrh"
      }
    },
    {
      "cell_type": "markdown",
      "source": [
        ""
      ],
      "metadata": {
        "id": "iaCXitKBhfXQ"
      }
    },
    {
      "cell_type": "code",
      "source": [
        "#開始訓練 訓練資料 訓練答案丟進去 \n",
        "#batch_size,每次訓練的樣本數 看完100個手寫辨識後調一次參數 \n",
        "#batch_size影響模型的優化程度和速度,在ram的效率跟容量間找平衡\n",
        "#epochs 連續訓練幾次\n",
        "#（1）batchsize：批大小。在深度學習中，一般採用SGD訓練，即每次訓練在訓練集中取batchsize個樣本訓練；\n",
        "#（2）iteration：1個iteration等於使用batchsize個樣本訓練一次；\n",
        "# （3）epoch：1個epoch等於使用訓練集中的全部樣本訓練一次；讓神經網路學幾次\n",
        "# 舉個例子，訓練集有1000個樣本，batchsize=10，那麼：\n",
        "# 訓練完整個樣本集需要：\n",
        "# 100次iteration，1次epoch。\n",
        "model.fit(x_train,y_train,batch_size=100,epochs=20)\n",
        "\n",
        "#要看正確率accuracy有沒有慢慢墊高,有變高就是還有進步空間,就在執行一次\n"
      ],
      "metadata": {
        "colab": {
          "base_uri": "https://localhost:8080/"
        },
        "id": "q4xy80-IaNQV",
        "outputId": "8d4f08c6-d6ae-44f9-c71c-914754e91164"
      },
      "execution_count": null,
      "outputs": [
        {
          "output_type": "stream",
          "name": "stdout",
          "text": [
            "Epoch 1/20\n",
            "600/600 [==============================] - 2s 3ms/step - loss: 0.0893 - accuracy: 0.1627\n",
            "Epoch 2/20\n",
            "600/600 [==============================] - 3s 4ms/step - loss: 0.0864 - accuracy: 0.2539\n",
            "Epoch 3/20\n",
            "600/600 [==============================] - 3s 5ms/step - loss: 0.0794 - accuracy: 0.3594\n",
            "Epoch 4/20\n",
            "600/600 [==============================] - 3s 5ms/step - loss: 0.0682 - accuracy: 0.4487\n",
            "Epoch 5/20\n",
            "600/600 [==============================] - 3s 5ms/step - loss: 0.0560 - accuracy: 0.5979\n",
            "Epoch 6/20\n",
            "600/600 [==============================] - 2s 3ms/step - loss: 0.0454 - accuracy: 0.6771\n",
            "Epoch 7/20\n",
            "600/600 [==============================] - 2s 3ms/step - loss: 0.0375 - accuracy: 0.7326\n",
            "Epoch 8/20\n",
            "600/600 [==============================] - 2s 3ms/step - loss: 0.0301 - accuracy: 0.8061\n",
            "Epoch 9/20\n",
            "600/600 [==============================] - 2s 3ms/step - loss: 0.0248 - accuracy: 0.8417\n",
            "Epoch 10/20\n",
            "600/600 [==============================] - 2s 3ms/step - loss: 0.0216 - accuracy: 0.8609\n",
            "Epoch 11/20\n",
            "600/600 [==============================] - 1s 2ms/step - loss: 0.0196 - accuracy: 0.8741\n",
            "Epoch 12/20\n",
            "600/600 [==============================] - 2s 3ms/step - loss: 0.0180 - accuracy: 0.8833\n",
            "Epoch 13/20\n",
            "600/600 [==============================] - 2s 3ms/step - loss: 0.0169 - accuracy: 0.8916\n",
            "Epoch 14/20\n",
            "600/600 [==============================] - 2s 3ms/step - loss: 0.0160 - accuracy: 0.8971\n",
            "Epoch 15/20\n",
            "600/600 [==============================] - 2s 3ms/step - loss: 0.0153 - accuracy: 0.9012\n",
            "Epoch 16/20\n",
            "600/600 [==============================] - 2s 3ms/step - loss: 0.0147 - accuracy: 0.9048\n",
            "Epoch 17/20\n",
            "600/600 [==============================] - 2s 3ms/step - loss: 0.0142 - accuracy: 0.9088\n",
            "Epoch 18/20\n",
            "600/600 [==============================] - 2s 3ms/step - loss: 0.0137 - accuracy: 0.9109\n",
            "Epoch 19/20\n",
            "600/600 [==============================] - 2s 3ms/step - loss: 0.0133 - accuracy: 0.9141\n",
            "Epoch 20/20\n",
            "600/600 [==============================] - 2s 3ms/step - loss: 0.0129 - accuracy: 0.9168\n"
          ]
        },
        {
          "output_type": "execute_result",
          "data": {
            "text/plain": [
              "<keras.callbacks.History at 0x7ff9e2dd7910>"
            ]
          },
          "metadata": {},
          "execution_count": 11
        }
      ]
    },
    {
      "cell_type": "markdown",
      "source": [
        "6. step 預測"
      ],
      "metadata": {
        "id": "Eyz6eDMXVChz"
      }
    },
    {
      "cell_type": "code",
      "source": [
        "#np.argmax 找出最大值的index\n",
        "#axis一矩陣往下算該欄每列總和:axis=0, 算該列每欄總和axis=1 or -1\n",
        "a=model.predict(x_test)\n",
        "print(y_test[3])\n",
        "print(a[3])\n",
        "print(np.argmax(a,axis=-1))\n",
        "y_predict=np.argmax(model.predict(x_test),axis=-1)\n",
        "print(y_predict)\n"
      ],
      "metadata": {
        "colab": {
          "base_uri": "https://localhost:8080/"
        },
        "id": "NKU1KQdt-_AG",
        "outputId": "170ca623-2a78-41bd-b3c0-ee2cd9a17be6"
      },
      "execution_count": null,
      "outputs": [
        {
          "output_type": "stream",
          "name": "stdout",
          "text": [
            "[1. 0. 0. 0. 0. 0. 0. 0. 0. 0.]\n",
            "[9.9433881e-01 9.2019166e-13 9.4209955e-04 5.2832003e-04 6.1002588e-08\n",
            " 4.0494222e-03 1.6656588e-07 4.0400099e-07 1.0541072e-04 3.5296252e-05]\n",
            "[7 2 1 ... 4 5 6]\n",
            "[7 2 1 ... 4 5 6]\n"
          ]
        }
      ]
    },
    {
      "cell_type": "markdown",
      "source": [
        "用互動模式展示訓練成果"
      ],
      "metadata": {
        "id": "GqyMiQWROkvy"
      }
    },
    {
      "cell_type": "code",
      "source": [
        "from ipywidgets import interact_manual\n",
        "def test(測試編號):\n",
        "  print(x_test[測試編號].reshape(28,28).shape)\n",
        "  print(\"y_test:\",y_test[測試編號])\n",
        "  plt.imshow(x_test[測試編號].reshape(28,28),cmap='Greys')\n",
        "  print(\"神經網路判斷為:\", y_predict[測試編號])\n",
        "interact_manual(test,測試編號=(0,9999));"
      ],
      "metadata": {
        "colab": {
          "base_uri": "https://localhost:8080/",
          "height": 81,
          "referenced_widgets": [
            "80bb05aa35c640a28d509c5d1667fe36",
            "e805af7dc02e40418e9be1d11b835dbe",
            "6249fc69b5bb4b6aafc88490828e5d4f",
            "3c80755ae16c498bb365a9e4bcffb6ae",
            "0a63287dd7e143fbabdc633da1660d40",
            "8851298a2ef04fdbbf2007a6f838dffd",
            "79fd88ac975c4b7295159504a76dabff",
            "faf604b792324c3a927ea66916790135",
            "6ed6d59450e54950af5b89b98c9d40ab",
            "1e39d4b634824c1bbf979b67ad74fcd1"
          ]
        },
        "id": "SWGaRKOyKJ3V",
        "outputId": "42cfc25f-f64c-4ad9-c45b-94e673a6952e"
      },
      "execution_count": null,
      "outputs": [
        {
          "output_type": "display_data",
          "data": {
            "text/plain": [
              "interactive(children=(IntSlider(value=4999, description='測試編號', max=9999), Button(description='Run Interact', …"
            ],
            "application/vnd.jupyter.widget-view+json": {
              "version_major": 2,
              "version_minor": 0,
              "model_id": "80bb05aa35c640a28d509c5d1667fe36"
            }
          },
          "metadata": {}
        }
      ]
    },
    {
      "cell_type": "markdown",
      "source": [
        "看測試資料狀況,給神經網路總評量"
      ],
      "metadata": {
        "id": "kMS7czhhUKvb"
      }
    },
    {
      "cell_type": "code",
      "source": [
        "score=model.evaluate(x_test,y_test)\n",
        "print(\"loss:\",score[0])\n",
        "print(\"accurate:\",score[1])\n",
        "#"
      ],
      "metadata": {
        "colab": {
          "base_uri": "https://localhost:8080/"
        },
        "id": "ooNbFtI6UKBG",
        "outputId": "3dfca152-45f3-42c6-bb0a-31761082861a"
      },
      "execution_count": null,
      "outputs": [
        {
          "output_type": "stream",
          "name": "stdout",
          "text": [
            "313/313 [==============================] - 1s 2ms/step - loss: 0.0123 - accuracy: 0.9195\n",
            "loss: 0.012255819514393806\n",
            "accurate: 0.9194999933242798\n"
          ]
        }
      ]
    },
    {
      "cell_type": "markdown",
      "source": [
        "如果訓練OK,可以存到google drive供日後使用"
      ],
      "metadata": {
        "id": "QwXvLTN_VHZj"
      }
    },
    {
      "cell_type": "code",
      "source": [
        "from google.colab import drive\n",
        "drive.mount('/content/drive')\n"
      ],
      "metadata": {
        "id": "eq7fmTE0UJ_E",
        "colab": {
          "base_uri": "https://localhost:8080/"
        },
        "outputId": "7be4651a-a282-43db-8b6c-84097f10d28d"
      },
      "execution_count": null,
      "outputs": [
        {
          "output_type": "stream",
          "name": "stdout",
          "text": [
            "Mounted at /content/drive\n"
          ]
        }
      ]
    },
    {
      "cell_type": "markdown",
      "source": [
        "CD到Colab資料夾"
      ],
      "metadata": {
        "id": "elSpvygIcRz2"
      }
    },
    {
      "cell_type": "code",
      "source": [
        "#My Drive是GOOGLE預設的名\n",
        "%cd '/content/drive/My Drive/Colab Notebooks'\n",
        "model.save('My_DNN_Model')"
      ],
      "metadata": {
        "id": "jszTMsv8UJ7u",
        "colab": {
          "base_uri": "https://localhost:8080/"
        },
        "outputId": "e2ad3978-c61d-4f89-ca1d-f7effeaaae5d"
      },
      "execution_count": null,
      "outputs": [
        {
          "output_type": "stream",
          "name": "stdout",
          "text": [
            "/content/drive/My Drive/Colab Notebooks\n",
            "INFO:tensorflow:Assets written to: My_DNN_Model/assets\n"
          ]
        }
      ]
    },
    {
      "cell_type": "code",
      "source": [
        ""
      ],
      "metadata": {
        "id": "X1q240JFPyGX"
      },
      "execution_count": null,
      "outputs": []
    }
  ]
}