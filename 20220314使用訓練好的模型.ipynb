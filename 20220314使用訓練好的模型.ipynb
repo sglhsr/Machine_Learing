{
  "nbformat": 4,
  "nbformat_minor": 0,
  "metadata": {
    "colab": {
      "name": "20220314使用訓練好的模型.ipynb",
      "provenance": [],
      "collapsed_sections": [],
      "authorship_tag": "ABX9TyN2X53XUgfALQjkCOCD5QBz",
      "include_colab_link": true
    },
    "kernelspec": {
      "name": "python3",
      "display_name": "Python 3"
    },
    "language_info": {
      "name": "python"
    }
  },
  "cells": [
    {
      "cell_type": "markdown",
      "metadata": {
        "id": "view-in-github",
        "colab_type": "text"
      },
      "source": [
        "<a href=\"https://colab.research.google.com/github/sglhsr/Machine_Learing/blob/main/20220314%E4%BD%BF%E7%94%A8%E8%A8%93%E7%B7%B4%E5%A5%BD%E7%9A%84%E6%A8%A1%E5%9E%8B.ipynb\" target=\"_parent\"><img src=\"https://colab.research.google.com/assets/colab-badge.svg\" alt=\"Open In Colab\"/></a>"
      ]
    },
    {
      "cell_type": "markdown",
      "source": [
        "把這個collab存到google drive and github"
      ],
      "metadata": {
        "id": "PDLgfeNOS85V"
      }
    },
    {
      "cell_type": "code",
      "execution_count": 4,
      "metadata": {
        "id": "mU8K7hEARrtA"
      },
      "outputs": [],
      "source": [
        "%matplotlib inline\n",
        "\n",
        "import numpy as np \n",
        "import pandas as pd\n",
        "import matplotlib.pyplot as plt\n"
      ]
    },
    {
      "cell_type": "markdown",
      "source": [
        "gradio 是很酷的套件, 可以幫我們把機器學習的專案神速做成網路 app!"
      ],
      "metadata": {
        "id": "WAO8OAx0ULkm"
      }
    },
    {
      "cell_type": "code",
      "source": [
        "import gradio as gr\n",
        "from tensorflow.keras.models import load_model"
      ],
      "metadata": {
        "id": "kZpn6MddTE60"
      },
      "execution_count": 5,
      "outputs": []
    },
    {
      "cell_type": "markdown",
      "source": [
        "load之前訓練好的model\n",
        "連上之前存在google drive裡的model並讀入使用"
      ],
      "metadata": {
        "id": "K5bMD8PlUblJ"
      }
    },
    {
      "cell_type": "code",
      "source": [
        "from google.colab import drive\n",
        "drive.mount('/content/drive')"
      ],
      "metadata": {
        "id": "tk-nC0pGT9Lm",
        "colab": {
          "base_uri": "https://localhost:8080/"
        },
        "outputId": "ae0de90e-fdc4-4dd6-e2df-b9982aebb581"
      },
      "execution_count": 6,
      "outputs": [
        {
          "output_type": "stream",
          "name": "stdout",
          "text": [
            "Mounted at /content/drive\n"
          ]
        }
      ]
    },
    {
      "cell_type": "markdown",
      "source": [
        ""
      ],
      "metadata": {
        "id": "Z2SmcYD6VB8F"
      }
    },
    {
      "cell_type": "markdown",
      "source": [
        "進到google drive的路徑"
      ],
      "metadata": {
        "id": "P9fuW3rBVDqP"
      }
    },
    {
      "cell_type": "code",
      "source": [
        "%cd '/content/drive/My Drive/Colab Notebooks'"
      ],
      "metadata": {
        "id": "frwjDxE-UtaD",
        "colab": {
          "base_uri": "https://localhost:8080/"
        },
        "outputId": "037355aa-0071-4df5-9348-471bb7e4d898"
      },
      "execution_count": 7,
      "outputs": [
        {
          "output_type": "stream",
          "name": "stdout",
          "text": [
            "/content/drive/My Drive/Colab Notebooks\n"
          ]
        }
      ]
    },
    {
      "cell_type": "code",
      "source": [
        "#讀取model  大小寫須完全一樣\n",
        "model=load_model('My_DNN_Model')"
      ],
      "metadata": {
        "id": "rzJZYS4TU-qH"
      },
      "execution_count": 8,
      "outputs": []
    },
    {
      "cell_type": "markdown",
      "source": [
        "3. 完成我們的互動 web app!!\n",
        "用 gradio 和用 Jupyter Notebook 互動很類似 -- 都是寫一個函式就能互動!\n",
        "\n",
        "注意如果用 fashion_mnist, labels 那段改為"
      ],
      "metadata": {
        "id": "TGSamOh-WLbq"
      }
    },
    {
      "cell_type": "code",
      "source": [
        "# labels = [\"T-shirt/top（T恤)\", \"Trouser（褲子)\", \"Pullover（套衫)\", \"Dress（裙子)\", \"Coat（外套)\", \"Sandal（涼鞋)\", \"Shirt（汗衫)\", \"Sneaker（運動鞋)\", \"Bag（包)\", \"Ankle boot（踝靴)\"]"
      ],
      "metadata": {
        "id": "z0Umn1sbVQdx"
      },
      "execution_count": 9,
      "outputs": []
    },
    {
      "cell_type": "code",
      "source": [
        "#gradio 輸入一個28*28的圖, gradio會轉成28*28的ary\n",
        "#predict: input轉成 [[]], output轉成[]\n",
        "def recognize_digit(img):\n",
        "  img=img.reshape(1,784) #本來是[......]784一維,但predict要[[....]]二維的 所以轉成(1,784)\n",
        "  #如之前的x_train全部是(60000,784)\n",
        "  #flatten(): [[.....]]拉平一個維度=>[.....],  本來predict的輸出也是[[...]],因為可以一次prdict好幾個數\n",
        "  #prediction[3]=3的機率是多少\n",
        "  prediction=model.predict(img).flatten()\n",
        "  labels=list('0123456789')  #轉成[0,1,2,3...9]\n",
        "  return {labels[i]: float(prediction[i]) for i in range(10)} #列表解析（List Comprehensions） {key:value for value in range(10)}\n",
        "#gradio return 要求字典檔格式 結果跟機率格式{\"0\":0.2,\"1\",0.1...}\n"
      ],
      "metadata": {
        "id": "AFQLMBTSWSyR"
      },
      "execution_count": 10,
      "outputs": []
    },
    {
      "cell_type": "markdown",
      "source": [
        ""
      ],
      "metadata": {
        "id": "VaiX856rWSc7"
      }
    },
    {
      "cell_type": "code",
      "source": [
        "iface=gr.Interface(fn=recognize_digit,title=\"我的手寫辨識 AI\",  #fn 要互動的函數, title程式名稱\n",
        "                   description=\"請寫入一數字,讓我辨識.\",  \n",
        "                   inputs=\"sketchpad\",  #手寫板\n",
        "                   outputs=\"label\")\n",
        "iface.launch()"
      ],
      "metadata": {
        "id": "EsfdH759X30a",
        "colab": {
          "base_uri": "https://localhost:8080/",
          "height": 651
        },
        "outputId": "21bdcd43-ab39-415f-906a-4be2ea778bcb"
      },
      "execution_count": 11,
      "outputs": [
        {
          "output_type": "stream",
          "name": "stdout",
          "text": [
            "Colab notebook detected. To show errors in colab notebook, set `debug=True` in `launch()`\n",
            "Running on public URL: https://38041.gradio.app\n",
            "\n",
            "This share link expires in 72 hours. For free permanent hosting, check out Spaces (https://huggingface.co/spaces)\n"
          ]
        },
        {
          "output_type": "display_data",
          "data": {
            "text/plain": [
              "<IPython.lib.display.IFrame at 0x7fab668c6a90>"
            ],
            "text/html": [
              "\n",
              "        <iframe\n",
              "            width=\"900\"\n",
              "            height=\"500\"\n",
              "            src=\"https://38041.gradio.app\"\n",
              "            frameborder=\"0\"\n",
              "            allowfullscreen\n",
              "        ></iframe>\n",
              "        "
            ]
          },
          "metadata": {}
        },
        {
          "output_type": "execute_result",
          "data": {
            "text/plain": [
              "(<fastapi.applications.FastAPI at 0x7fabe091c6d0>,\n",
              " 'http://127.0.0.1:7860/',\n",
              " 'https://38041.gradio.app')"
            ]
          },
          "metadata": {},
          "execution_count": 11
        }
      ]
    },
    {
      "cell_type": "code",
      "source": [
        ""
      ],
      "metadata": {
        "id": "xubqVIktYYF2",
        "colab": {
          "base_uri": "https://localhost:8080/",
          "height": 173
        },
        "outputId": "e6c89bfd-cdb5-440a-fde2-96d8658c9efe"
      },
      "execution_count": 12,
      "outputs": [
        {
          "output_type": "error",
          "ename": "NameError",
          "evalue": "ignored",
          "traceback": [
            "\u001b[0;31m---------------------------------------------------------------------------\u001b[0m",
            "\u001b[0;31mNameError\u001b[0m                                 Traceback (most recent call last)",
            "\u001b[0;32m<ipython-input-12-279146736e0b>\u001b[0m in \u001b[0;36m<module>\u001b[0;34m()\u001b[0m\n\u001b[0;32m----> 1\u001b[0;31m \u001b[0my_predict\u001b[0m\u001b[0;34m=\u001b[0m\u001b[0mnp\u001b[0m\u001b[0;34m.\u001b[0m\u001b[0margmax\u001b[0m\u001b[0;34m(\u001b[0m\u001b[0mmodel\u001b[0m\u001b[0;34m.\u001b[0m\u001b[0mpredict\u001b[0m\u001b[0;34m(\u001b[0m\u001b[0mx_test\u001b[0m\u001b[0;34m)\u001b[0m\u001b[0;34m,\u001b[0m\u001b[0maxis\u001b[0m\u001b[0;34m=\u001b[0m\u001b[0;34m-\u001b[0m\u001b[0;36m1\u001b[0m\u001b[0;34m)\u001b[0m\u001b[0;34m\u001b[0m\u001b[0;34m\u001b[0m\u001b[0m\n\u001b[0m",
            "\u001b[0;31mNameError\u001b[0m: name 'x_test' is not defined"
          ]
        }
      ]
    }
  ]
}