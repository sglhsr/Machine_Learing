{
  "cells": [
    {
      "cell_type": "markdown",
      "metadata": {
        "id": "view-in-github",
        "colab_type": "text"
      },
      "source": [
        "<a href=\"https://colab.research.google.com/github/sglhsr/Machine_Learing/blob/main/k_mean.ipynb\" target=\"_parent\"><img src=\"https://colab.research.google.com/assets/colab-badge.svg\" alt=\"Open In Colab\"/></a>"
      ]
    },
    {
      "cell_type": "code",
      "execution_count": null,
      "id": "69f2a1f1",
      "metadata": {
        "id": "69f2a1f1"
      },
      "outputs": [],
      "source": [
        "import numpy as np\n",
        "import matplotlib.pyplot as plt\n"
      ]
    },
    {
      "cell_type": "code",
      "execution_count": null,
      "id": "26ff3307",
      "metadata": {
        "scrolled": true,
        "id": "26ff3307",
        "outputId": "3a065633-313e-4c48-8c78-06ff2fda73a9"
      },
      "outputs": [
        {
          "name": "stdout",
          "output_type": "stream",
          "text": [
            "new  [384.33 117.33 321.5 ] [ 51.   244.11 346.25]\n",
            "Old  [372 142 307] [ 44 224 255]\n",
            "[ 12.33 -24.67  14.5 ]\n",
            "new  [384.33 304.67 110.75] [ 51.   356.89 219.38]\n",
            "Old  [384.33 117.33 321.5 ] [ 51.   244.11 346.25]\n",
            "[   0.    187.34 -210.75]\n",
            "Done\n"
          ]
        },
        {
          "data": {
            "image/png": "[encoded data removed]",
            "text/plain": [
              "<Figure size 432x288 with 1 Axes>"
            ]
          },
          "metadata": {
            "needs_background": "light"
          },
          "output_type": "display_data"
        }
      ],
      "source": [
        "\n",
        "cl_num=3  #中心點\n",
        "data_num=20  #共幾個資料點\n",
        "thr=[0.00001,0.00001,0.00001]\n",
        "def dist(x,y,mu_x,mu_y):\n",
        "    return (mu_x-x)**2 + (mu_y-y)**2\n",
        "#分cluster\n",
        "def cluster(x,y,mu_x,mu_y):\n",
        "    cls_=dict()  #轉成dictionary\n",
        "    for i in range(data_num):\n",
        "        dists=[] #全部點的距離\n",
        "        for j in range(cl_num):\n",
        "            distanct=dist(x[i],y[i],mu_x[j],mu_y[j])\n",
        "            dists.append(distanct)\n",
        "#             print(\"distanct \", distanct)\n",
        "#             print(\"dists \",dists)\n",
        "#         print(\"Min \",min(dists))\n",
        "#         print(\"min dists index\",dists.index(min(dists)))\n",
        "        #該資料點離全部中心點最短的距離的index\n",
        "        cl=dists.index(min(dists))\n",
        "        #抓每個資料點跟哪個中心點最近 並附加到最短中心點連結的字典\n",
        "        if cl not in cls_:\n",
        "            cls_[cl]=[(x[i],y[i])]\n",
        "        elif cl in cls_:\n",
        "            cls_[cl].append((x[i],y[i]))\n",
        "#         print(i,\"cls:\" , cls_[cl])\n",
        "#     print(cls_)\n",
        "    return cls_\n",
        "#用各中心點最短的資料點平均 算出新的中心點座標\n",
        "def re_mu(cls_,mu_x,mu_y):\n",
        "    new_muX=[]\n",
        "    new_muY=[]\n",
        "    \n",
        "    for key,values in cls_.items():\n",
        "        if len(values)==0:\n",
        "            values.append([mu_x[key],mu_y[key]])\n",
        "        \n",
        "        sum_x=0\n",
        "        sum_y=0\n",
        "        for v in values:\n",
        "            sum_x+=v[0]\n",
        "            sum_y+=v[1]\n",
        "        \n",
        "        new_mu_x=sum_x/len(values)\n",
        "        new_mu_y=sum_y/len(values)\n",
        "        \n",
        "        new_muX.append(round(new_mu_x,2))\n",
        "        new_muY.append(round(new_mu_y,2))\n",
        "    return new_muX,new_muY\n",
        "    \n",
        "def main():\n",
        "    #隨機資料點\n",
        "    x=np.random.randint(0,500,data_num)\n",
        "    y=np.random.randint(0,500,data_num)\n",
        "    #隨機中心點\n",
        "    mu_x=np.random.randint(0,500,cl_num)\n",
        "    mu_y=np.random.randint(0,500,cl_num)\n",
        "    \n",
        "   \n",
        "    cls_=cluster(x,y,mu_x,mu_y)\n",
        "    \n",
        "    new_muX,new_muY=re_mu(cls_,mu_x,mu_y)\n",
        "\n",
        "#     print(np.array(new_muX))\n",
        "#     print(np.array(mu_x))\n",
        "#     print(np.array(new_muX)-np.array(mu_x))\n",
        "#     print(thr)\n",
        "#     print(abs(np.array(new_muX)-np.array(mu_x))>thr)\n",
        "    \n",
        "    #一直抓平均值直到新中心點誤差<thr\n",
        "    while any(abs(np.array(new_muX)-np.array(mu_x)>thr)) != False or any(abs(np.array(new_muY)-np.array(mu_y)>thr)) !=False:\n",
        "     \n",
        "            print(\"new \",np.array(new_muX),np.array(new_muY))\n",
        "            print(\"Old \",np.array(mu_x),np.array(mu_y))\n",
        "            print(np.array(new_muX)-np.array(mu_x))\n",
        "            mu_x=new_muX\n",
        "            mu_y=new_muY\n",
        "          \n",
        "            cls_=cluster(x,y,mu_x,mu_y)\n",
        "#             print(\"cls: \",cls_)\n",
        "            new_muX,new_muY=re_mu(cls_,mu_x,mu_y)\n",
        "#             print(\"mu_X:\",new_muX)\n",
        "#             print(\"mu_Y:\",new_muY)\n",
        "#             print(np.array(new_muX),np.array(mu_x))\n",
        "#             print(np.array(new_muX)-np.array(mu_x))\n",
        "    print('Done')\n",
        "    plt.scatter(x,y)\n",
        "    plt.scatter(new_muX,new_muY)\n",
        "#     plt.show()\n",
        "    \n",
        "    colors=['r','b','g']\n",
        "    for key,values in cls_.items():\n",
        "        cx=[]\n",
        "        cy=[]\n",
        "        for v in values :\n",
        "            cx.append(v[0])\n",
        "            cy.append(v[1])\n",
        "        plt.scatter(cx,cy,color=colors[key])\n",
        "        plt.scatter(new_muX,new_muY,color='y')\n",
        "#     plt.scatter(new_muX,new_muY,color='y')\n",
        "if __name__=='__main__':\n",
        "    main()\n",
        "\n",
        "\n",
        "    "
      ]
    },
    {
      "cell_type": "code",
      "execution_count": null,
      "id": "514b7b56",
      "metadata": {
        "id": "514b7b56",
        "outputId": "1f3e57b3-cc74-4d03-c7ee-c09d73ae1110"
      },
      "outputs": [
        {
          "name": "stdout",
          "output_type": "stream",
          "text": [
            "a 2\n",
            "b 3\n",
            "c 5\n"
          ]
        }
      ],
      "source": [
        "aa=dict()\n",
        "aa={\"a\":\"2\",\"b\":\"3\",\"c\":\"5\"}\n",
        "for key,values in aa.items():\n",
        "    print(key,values)"
      ]
    },
    {
      "cell_type": "code",
      "execution_count": null,
      "id": "56795856",
      "metadata": {
        "id": "56795856"
      },
      "outputs": [],
      "source": [
        ""
      ]
    }
  ],
  "metadata": {
    "kernelspec": {
      "display_name": "Python 3 (ipykernel)",
      "language": "python",
      "name": "python3"
    },
    "language_info": {
      "codemirror_mode": {
        "name": "ipython",
        "version": 3
      },
      "file_extension": ".py",
      "mimetype": "text/x-python",
      "name": "python",
      "nbconvert_exporter": "python",
      "pygments_lexer": "ipython3",
      "version": "3.9.7"
    },
    "colab": {
      "name": "k-mean.ipynb",
      "provenance": [],
      "include_colab_link": true
    }
  },
  "nbformat": 4,
  "nbformat_minor": 5
}