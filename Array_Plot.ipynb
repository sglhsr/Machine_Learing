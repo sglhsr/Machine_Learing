{
  "cells": [
    {
      "cell_type": "markdown",
      "metadata": {
        "id": "view-in-github",
        "colab_type": "text"
      },
      "source": [
        "<a href=\"https://colab.research.google.com/github/sglhsr/Machine_Learing/blob/main/Array_Plot.ipynb\" target=\"_parent\"><img src=\"https://colab.research.google.com/assets/colab-badge.svg\" alt=\"Open In Colab\"/></a>"
      ]
    },
    {
      "cell_type": "code",
      "execution_count": null,
      "id": "f874ca08",
      "metadata": {
        "id": "f874ca08",
        "outputId": "d93f0125-c8a7-4abc-aa2f-d0b8ce8544fe"
      },
      "outputs": [
        {
          "name": "stdout",
          "output_type": "stream",
          "text": [
            "Populating the interactive namespace from numpy and matplotlib\n"
          ]
        },
        {
          "data": {
            "text/plain": [
              "array([ 1,  3,  5,  7, 56, 32, 43, 21,  7,  8,  0,  9,  1])"
            ]
          },
          "execution_count": 131,
          "metadata": {},
          "output_type": "execute_result"
        }
      ],
      "source": [
        "%pylab inline\n",
        "arr=array([1,3,5,7,56,32,43,21,7,8,0,9,1])\n",
        "arr"
      ]
    },
    {
      "cell_type": "code",
      "execution_count": null,
      "id": "a999e9eb",
      "metadata": {
        "id": "a999e9eb",
        "outputId": "e8eb3105-65d9-4a78-d2c4-67720f950eb2"
      },
      "outputs": [
        {
          "data": {
            "text/plain": [
              "7"
            ]
          },
          "execution_count": 119,
          "metadata": {},
          "output_type": "execute_result"
        }
      ],
      "source": [
        "arr[3]"
      ]
    },
    {
      "cell_type": "code",
      "execution_count": null,
      "id": "5a156ceb",
      "metadata": {
        "id": "5a156ceb",
        "outputId": "77c39346-fda5-4c1f-a1fe-2914f132119e"
      },
      "outputs": [
        {
          "data": {
            "text/plain": [
              "array([ 5,  7, 56])"
            ]
          },
          "execution_count": 121,
          "metadata": {},
          "output_type": "execute_result"
        }
      ],
      "source": [
        "arr[2:5]"
      ]
    },
    {
      "cell_type": "code",
      "execution_count": null,
      "id": "591fc1f6",
      "metadata": {
        "id": "591fc1f6",
        "outputId": "82d1fba7-f2f1-4bbd-834f-3aa4b167572c"
      },
      "outputs": [
        {
          "data": {
            "text/plain": [
              "array([ 3,  5,  7, 56, 32, 43, 21,  7,  8,  0,  9,  1])"
            ]
          },
          "execution_count": 151,
          "metadata": {},
          "output_type": "execute_result"
        }
      ],
      "source": [
        "\n",
        "arr[1:]"
      ]
    },
    {
      "cell_type": "code",
      "execution_count": null,
      "id": "d2c9d33e",
      "metadata": {
        "id": "d2c9d33e",
        "outputId": "c54702ca-b97d-4f8b-a4c5-a5cc84a3a610"
      },
      "outputs": [
        {
          "name": "stdout",
          "output_type": "stream",
          "text": [
            "[[ 2 64  7  0  1]]\n",
            "[[9 5]]\n"
          ]
        }
      ],
      "source": [
        "a=array([[1,3,9,5,3],[2,64,7,0,1]])\n",
        "print(a[1:]) #第一列的全部\n",
        "print(a[0:1,2:4]) #第一行的全部"
      ]
    },
    {
      "cell_type": "code",
      "execution_count": null,
      "id": "570b2cbb",
      "metadata": {
        "id": "570b2cbb",
        "outputId": "c0ed41b3-0a49-426d-a614-d01d66520a52"
      },
      "outputs": [
        {
          "name": "stdout",
          "output_type": "stream",
          "text": [
            "[-1.01059366  0.55807878 -1.27442213 -0.86440108  0.05684383 -1.12551971\n",
            "  1.14935551 -1.49705823 -0.86856843  1.53570974  1.20361231  0.70757637\n",
            " -0.23431512 -1.27525863 -0.30669783 -0.92781461 -0.0130223  -0.56232963\n",
            " -1.4362103   1.56106368]\n",
            "[False  True False False  True False  True False False  True  True  True\n",
            " False False False False False False False  True]\n",
            "[0.55807878 0.05684383 1.14935551 1.53570974 1.20361231 0.70757637\n",
            " 1.56106368]\n"
          ]
        }
      ],
      "source": [
        "arr=randn(20)\n",
        "print(arr)\n",
        "print(arr>0)\n",
        "arr=arr[arr>0]  #撈出全部大於0的資料到新的array\n",
        "print(arr)"
      ]
    },
    {
      "cell_type": "code",
      "execution_count": null,
      "id": "d78ae35c",
      "metadata": {
        "id": "d78ae35c",
        "outputId": "e29f6ed2-023e-401d-e721-b1257622a264"
      },
      "outputs": [
        {
          "name": "stdout",
          "output_type": "stream",
          "text": [
            "[-1.38186256  0.64097985  0.21640203 -1.53459885  2.35111258 -1.24027027\n",
            "  1.46447766  0.06067484  0.88232788  1.69358461  1.66003842 -0.02160004\n",
            " -0.43288755 -0.82574382 -0.67083692  0.49074315 -1.94278125 -1.03200825\n",
            " -0.19372375 -0.66649588  0.94142731  0.68331017 -1.98527818 -0.62148954\n",
            " -0.07223249  1.21844077 -0.20909056  0.82636849 -0.05329913  1.03251616\n",
            "  0.22571724 -0.48822454  0.98185125  2.03567369 -1.66428923 -0.97739625\n",
            " -0.84031181  0.01142362  0.10442901  0.20130916 -0.79680967  0.50178241\n",
            " -1.21278076  0.57184135 -3.35943944 -0.11012031  0.57527432  0.35432782\n",
            "  0.66302422  0.49720441  0.55275162  0.22236347  1.34286325 -0.50557318\n",
            "  0.55929041  0.50595494 -0.62778825 -3.04593385 -1.58494887  0.07822908\n",
            "  0.7685317   1.24745454  0.26970432 -1.96973126 -0.3053761  -0.42171933\n",
            " -0.74347196 -0.47325378 -0.53573546  0.86402346  0.12297128 -0.18848916\n",
            "  0.14613476  0.32483512 -1.41145861 -1.77619122  1.35581681 -1.69947513\n",
            " -0.08402967 -1.59062924 -2.07914541 -0.51357662  0.94014446  0.02317785\n",
            " -0.97395788  0.20174026 -0.38844646 -1.27533427  2.05985774  1.35896048\n",
            "  0.91335109  0.97543789 -0.6978982  -0.35760675 -0.27923459  0.18320538\n",
            " -0.05318353 -0.57133599 -0.300376   -0.18471664]\n",
            "[1.60638154 0.08719513 0.18624063 4.22688329 0.37820332 1.46324712\n",
            " 1.57033471 0.94724899 0.12714626 1.91235839 0.81694735 0.21982195\n",
            " 1.25272608 0.07303026 0.62355724 0.05906302 0.00568873 1.16840753\n",
            " 1.1852731  0.17459048 0.02774934 1.39194563 0.06458207 1.5175426\n",
            " 0.65717224 0.36912581 0.16576085 1.03487964 0.64662274 0.56658397\n",
            " 0.11212762 1.05550257 2.07774862 1.14780123 1.25141637 0.68497647\n",
            " 1.21823772 0.65828361 1.60331328 1.22764574 0.67749606 0.50364466\n",
            " 0.30929426 0.13907609 1.47083159 0.02739203 2.3824334  0.05006776\n",
            " 0.1031413  1.11844929]\n"
          ]
        }
      ],
      "source": [
        "x=randn(100)\n",
        "y=randn(100)\n",
        "print(x)\n",
        "print(y[y>0])"
      ]
    },
    {
      "cell_type": "code",
      "execution_count": null,
      "id": "bfd192cf",
      "metadata": {
        "scrolled": false,
        "id": "bfd192cf",
        "outputId": "4024af60-b9b4-4dbd-9c16-9aec20ac7403"
      },
      "outputs": [
        {
          "data": {
            "text/plain": [
              "<matplotlib.collections.PathCollection at 0x26acd2a0280>"
            ]
          },
          "execution_count": 180,
          "metadata": {},
          "output_type": "execute_result"
        },
        {
          "data": {
            "image/png": "[encoded data removed]",
            "text/plain": [
              "<Figure size 432x288 with 1 Axes>"
            ]
          },
          "metadata": {
            "needs_background": "light"
          },
          "output_type": "display_data"
        }
      ],
      "source": [
        "scatter(x,y)"
      ]
    },
    {
      "cell_type": "code",
      "execution_count": null,
      "id": "645bbe09",
      "metadata": {
        "id": "645bbe09",
        "outputId": "84e8b8cb-bfa7-451c-c0dc-5a397d41a6c7"
      },
      "outputs": [
        {
          "data": {
            "text/plain": [
              "<matplotlib.collections.PathCollection at 0x26acda467c0>"
            ]
          },
          "execution_count": 187,
          "metadata": {},
          "output_type": "execute_result"
        },
        {
          "data": {
            "image/png": "[encoded data removed]",
            "text/plain": [
              "<Figure size 432x288 with 1 Axes>"
            ]
          },
          "metadata": {
            "needs_background": "light"
          },
          "output_type": "display_data"
        }
      ],
      "source": [
        "scatter(x[x>0],y[x>0],c='red')  #X>0的標紅點,<=0的標藍點\n",
        "scatter(x[x<=0],y[x<=0],c='blue')"
      ]
    },
    {
      "cell_type": "code",
      "execution_count": null,
      "id": "67db6018",
      "metadata": {
        "id": "67db6018",
        "outputId": "12beccc5-f9b7-4bba-fa36-e7857d9f302d"
      },
      "outputs": [
        {
          "data": {
            "text/plain": [
              "array([[ 0.16592941,  0.8403897 , -0.50575662, -0.43301722,  0.39803604],\n",
              "       [ 0.50840993, -0.32953549,  0.02382956, -0.0885628 ,  0.58275   ],\n",
              "       [ 0.10668999,  0.14807169, -0.19376057,  1.28771013,  0.4271296 ],\n",
              "       [-0.96143681, -1.20158923, -0.84625111,  0.55653859,  0.68902652],\n",
              "       [-2.15350651,  1.30439052,  0.63461071,  0.77672723, -0.72901641],\n",
              "       [ 0.74313491,  0.88724209,  0.97710062,  3.39428671,  0.14759001],\n",
              "       [ 0.60633522,  1.52318546, -0.3876565 , -0.8231471 , -0.90297099],\n",
              "       [-1.02704864,  1.03561949,  0.18577384,  0.92099279, -1.37718904],\n",
              "       [-0.49306898,  1.45426339, -0.8623126 ,  0.55865886,  0.38277902],\n",
              "       [ 0.61108682, -0.62707452, -0.62206323, -1.41861791,  0.77303578],\n",
              "       [-1.98611016,  1.88802174, -0.7425392 , -1.21953919,  1.61478819],\n",
              "       [-0.73535087, -0.59710519, -0.64961515,  0.57510132,  1.22330182],\n",
              "       [-0.66506983,  1.05943493, -0.13471459, -1.58714916,  0.4822905 ],\n",
              "       [ 0.28889178,  1.02907781, -1.20906792, -0.22200014,  1.03685558],\n",
              "       [ 2.00635411,  0.28773477, -0.41411273, -0.56874794, -0.59223717],\n",
              "       [ 1.1068136 , -1.3527427 ,  0.35575246,  0.13072127,  1.15340249],\n",
              "       [ 0.07050398,  0.3570911 ,  0.19196477, -1.95052623,  2.50346763],\n",
              "       [ 0.23489418,  2.04131473, -1.13103151,  1.11176963, -0.38221871],\n",
              "       [ 0.79270298,  1.90114304, -0.29276739, -1.28150047, -1.02013972],\n",
              "       [-0.38119635,  0.61176481,  2.34718761, -0.28717137, -0.31520783]])"
            ]
          },
          "execution_count": 193,
          "metadata": {},
          "output_type": "execute_result"
        }
      ],
      "source": [
        "a=randn(100)\n",
        "a.shape\n",
        "#一維轉乘20*5 因為有時需要在一維里統一運算 或二維里運算,在換算回來\n",
        "a.shape=(20,5) \n",
        "a"
      ]
    },
    {
      "cell_type": "code",
      "execution_count": null,
      "id": "d4f418b2",
      "metadata": {
        "id": "d4f418b2",
        "outputId": "f8cb50ce-aeef-4e99-c637-0939ea7df838"
      },
      "outputs": [
        {
          "data": {
            "text/plain": [
              "array([[1., 0., 0.],\n",
              "       [0., 1., 0.],\n",
              "       [0., 0., 1.]])"
            ]
          },
          "execution_count": 195,
          "metadata": {},
          "output_type": "execute_result"
        }
      ],
      "source": [
        "arr=randn(20,5) #直接宣告成20*5\n",
        "arr"
      ]
    },
    {
      "cell_type": "code",
      "execution_count": null,
      "id": "021e8ede",
      "metadata": {
        "id": "021e8ede",
        "outputId": "35471a50-620d-45a6-8e0b-1066f1175466"
      },
      "outputs": [
        {
          "data": {
            "text/plain": [
              "array([[0., 0.],\n",
              "       [0., 0.]])"
            ]
          },
          "execution_count": 202,
          "metadata": {},
          "output_type": "execute_result"
        }
      ],
      "source": [
        "#特別的矩陣\n",
        "i=eye(3) #3*3的identify matrix\n",
        "i\n",
        "o=zeros(4)  #宣告出預設值為0的陣列\n",
        "o\n",
        "o.shape=(2,2)\n",
        "o"
      ]
    },
    {
      "cell_type": "code",
      "execution_count": null,
      "id": "4f48fe93",
      "metadata": {
        "id": "4f48fe93"
      },
      "outputs": [],
      "source": [
        ""
      ]
    }
  ],
  "metadata": {
    "kernelspec": {
      "display_name": "Python 3 (ipykernel)",
      "language": "python",
      "name": "python3"
    },
    "language_info": {
      "codemirror_mode": {
        "name": "ipython",
        "version": 3
      },
      "file_extension": ".py",
      "mimetype": "text/x-python",
      "name": "python",
      "nbconvert_exporter": "python",
      "pygments_lexer": "ipython3",
      "version": "3.9.7"
    },
    "colab": {
      "name": "Array_Plot.ipynb",
      "provenance": [],
      "include_colab_link": true
    }
  },
  "nbformat": 4,
  "nbformat_minor": 5
}